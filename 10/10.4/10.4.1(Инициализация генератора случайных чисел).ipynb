﻿{
 "cells": [
  {
   "cell_type": "raw",
   "source": [
    "Для того, чтобы управлять вселенной генератором случайных чисел, можно явно инициализировать его, для чего можно использовать функцию seed()\n",
    "\n",
    "\n",
    "\n",
    "import random\n",
    "random.seed(3939393939393939393939393939393939393939)\n",
    "print(random.randint(1, 100))\n",
    "выведет\n",
    "\n",
    "39\n",
    "(причем неважно сколько раз мы будем запускать программу, каждый раз вывод при одинаковом значении seed будет одинаковым)\n",
    "\n",
    "По умолчанию random.seed использует системное время для инициализации, по этому при каждом запуске программы получается новый вывод (Как говорил Мастер Угвей \"случайности не случайны\")\n",
    "\n",
    "P.S. random.seed работает как и seed в Майнкрафте (или других играх). Генерация мира каждый раз случайна, но если указать seed напрямую, то неважно сколько раз перезапускать программу (пересоздавать мир), результат будет одинаковым"
   ],
   "metadata": {
    "collapsed": false,
    "pycharm": {
     "name": "#%% raw\n"
    }
   }
  },
  {
   "cell_type": "code",
   "execution_count": 1,
   "outputs": [
    {
     "name": "stdout",
     "output_type": "stream",
     "text": [
      "True\n"
     ]
    }
   ],
   "source": [
    "import random\n",
    "random.seed(39)\n",
    "a = random.randint(1, 100)\n",
    "random.seed(39)\n",
    "b = random.randint(1, 100)\n",
    "print(a == b)"
   ],
   "metadata": {
    "collapsed": false,
    "pycharm": {
     "name": "#%%\n"
    }
   }
  },
  {
   "cell_type": "markdown",
   "source": [
    "Подобрав нужный seed, можно делать казалось-бы невозможные вещи, например код, симулирующий 20 бросков монеты, выбросит 20 \"орлов\", при сиде 381347\n",
    "\n",
    "\n",
    "\n",
    "import random\n",
    "random.seed(381347)\n",
    "\n",
    "for i in range(20):\n",
    "    if random.randrange(2):\n",
    "        print(\"орел\")\n",
    "    else:\n",
    "        print(\"решка\")"
   ],
   "metadata": {
    "collapsed": false,
    "pycharm": {
     "name": "#%% md\n"
    }
   }
  },
  {
   "cell_type": "code",
   "execution_count": 2,
   "outputs": [
    {
     "name": "stdout",
     "output_type": "stream",
     "text": [
      "381347\n"
     ]
    }
   ],
   "source": [
    "import random\n",
    "\n",
    "for i in range(1_000_001):  # перебираем все сиды от 0 до 1000000\n",
    "    random.seed(i)\n",
    "    for j in range(20):  # симулируем 20 бросков монеты\n",
    "        if not random.randrange(2):\n",
    "            break  # если выпадает решка, то переходим к следующему сиду (этот не подходит)\n",
    "    else:  # если цикл не был прерван, значит все 20 монет выпали \"орлом\"\n",
    "        print(i)  # выводим \"удачный\" сид\n",
    "        break\n",
    "else:\n",
    "    print(\"Среди чисел от 0 до 1000000 нет подходящих\")  # этот текст будет выведен если\n",
    " # среди чисел от 0 до 1000000 не найдется подходящего сида"
   ],
   "metadata": {
    "collapsed": false,
    "pycharm": {
     "name": "#%%\n"
    }
   }
  },
  {
   "cell_type": "markdown",
   "source": [
    "Напиши программу, которая подберет (и выведет) минимальный положительный сид, при котором программа\n",
    "\n",
    "import random\n",
    "\n",
    "random.seed(<результат работы твоей программы>)\n",
    "\n",
    "for i in range(20):\n",
    "    if random.randrange(2):\n",
    "        print(\"орел\")\n",
    "    else:\n",
    "        print(\"решка\")\n",
    "выведет \"решка\" 20 раз\n",
    "\n",
    "Подсказка\n",
    "Можно в цикле перебирать разные сиды и проверять для каждого из них, выводит ли на них код 20 орлов подряд или нет, а потом просто вывести подходящий.\n",
    "Можно как запустить программу на своем компьютере, а потом отправить код вида:\n",
    "\n",
    "print(Правильный_сид)\n",
    "так и отправить код, который вычислит и выведет сид перебором сидов от 1 до 1_000_000 (этого будет достаточно и такое решение пройдет по времени)\n",
    "P.S. В отличии от предыдущего шага и сида 381347, сид подобранный твоей программой должен в первые 20 вызовов randrange(2) вернуть False, а не True, как было в предыдущем шаге, по этому сид 381347 не является правильным ответом на эту задачу"
   ],
   "metadata": {
    "collapsed": false,
    "pycharm": {
     "name": "#%% md\n"
    }
   }
  },
  {
   "cell_type": "code",
   "execution_count": 3,
   "outputs": [
    {
     "name": "stdout",
     "output_type": "stream",
     "text": [
      "782585\n"
     ]
    }
   ],
   "source": [
    "import random\n",
    "\n",
    "for i in range(1_000_001):  # перебираем все сиды от 0 до 1000000\n",
    "    random.seed(i)\n",
    "    for j in range(20):  # симулируем 20 бросков монеты\n",
    "        if random.randrange(2):\n",
    "            break  # если выпадает решка, то переходим к следующему сиду (этот не подходит)\n",
    "    else:  # если цикл не был прерван, значит все 20 монет выпали \"орлом\"\n",
    "        print(i)  # выводим \"удачный\" сид\n",
    "        break\n",
    "else:\n",
    "    print(\"Среди чисел от 0 до 1000000 нет подходящих\")  # этот текст будет выведен если\n",
    " # среди чисел от 0 до 1000000 не найдется подходящего сида"
   ],
   "metadata": {
    "collapsed": false,
    "pycharm": {
     "name": "#%%\n"
    }
   }
  }
 ],
 "metadata": {
  "kernelspec": {
   "display_name": "Python 3",
   "language": "python",
   "name": "python3"
  },
  "language_info": {
   "codemirror_mode": {
    "name": "ipython",
    "version": 2
   },
   "file_extension": ".py",
   "mimetype": "text/x-python",
   "name": "python",
   "nbconvert_exporter": "python",
   "pygments_lexer": "ipython2",
   "version": "2.7.6"
  }
 },
 "nbformat": 4,
 "nbformat_minor": 0
}
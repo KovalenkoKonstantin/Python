﻿{
 "cells": [
  {
   "cell_type": "markdown",
   "source": [
    "Для генерации целого числа в выбранном диапазоне можно использовать функцию randrange(). Функция может принимать одно, два или три числа (как и функция range()), и генерировать случайное целое число\n",
    "\n",
    "\n",
    "\n",
    "import random\n",
    "print(random.randrange(5, 10)) # случайное целое число от 5 (включительно) до 10 (не включительно)\n",
    "может вывести 5, 6, 7, 8 или 9\n",
    "\n",
    "import random\n",
    "print(random.randrange(5, 10, 2))\n",
    "может вывести 5, 7 или 9"
   ],
   "metadata": {
    "collapsed": false,
    "pycharm": {
     "name": "#%% md\n"
    }
   }
  },
  {
   "cell_type": "markdown",
   "source": [
    "random                             Возвращает случайное вещественное число в промежутке от 0 до 1.\n",
    "\n",
    "\n",
    "\n",
    " uniform                             Возвращает случайное вещественное число в указанном промежутке.\n",
    "\n",
    "\n",
    "\n",
    " randint                              Возвращает случайное целое число в пределах заданного промежутка.\n",
    "\n",
    "\n",
    "\n",
    " randrange                        Возвращает случайное целое число в пределах заданного промежутка (можно указать шаг).\n",
    "\n",
    "\n",
    "\n",
    " gauss                               Возвращает случайное вещественное число, основываясь на Гауссовом распределении.\n",
    "\n",
    "\n",
    "\n",
    " choice                              Возвращает случайный элемент из заданной последовательности.\n",
    "\n",
    "\n",
    "\n",
    " shuffle                             Перемешивает элементы случайным образом (работает только с изменяемыми объектами).\n",
    "\n",
    "\n",
    "\n",
    " sample                            Возвращает новый список со случайным выбором неповторяющихся элементов (2-м аргументом нужно указать длину нового списка).\n",
    "\n",
    "\n",
    "\n",
    " seed                                При запуске программы результат изменяться не будет (нужно указать начальное числовое значение)."
   ],
   "metadata": {
    "collapsed": false,
    "pycharm": {
     "name": "#%% md\n"
    }
   }
  },
  {
   "cell_type": "markdown",
   "source": [
    "Напиши программу, которая выведет n случайных целых чисел от 1 (включительно) до 39 (включительно)\n",
    "\n",
    "Каждое число должно выводиться в отдельной строчке\n",
    "\n",
    "В единственной строчке вводится число n"
   ],
   "metadata": {
    "collapsed": false,
    "pycharm": {
     "name": "#%% md\n"
    }
   }
  },
  {
   "cell_type": "code",
   "execution_count": 2,
   "outputs": [
    {
     "name": "stdout",
     "output_type": "stream",
     "text": [
      "28\n",
      "11\n",
      "25\n",
      "17\n",
      "1\n",
      "29\n",
      "7\n",
      "35\n",
      "7\n",
      "14\n"
     ]
    }
   ],
   "source": [
    "from random import randint\n",
    "\n",
    "n = int(input())\n",
    "\n",
    "for _ in range(n):\n",
    "    print(randint(1, 39))"
   ],
   "metadata": {
    "collapsed": false,
    "pycharm": {
     "name": "#%%\n"
    }
   }
  },
  {
   "cell_type": "code",
   "execution_count": null,
   "outputs": [],
   "source": [
    "print(*[__import__('random').randint(1, 39) for x in range(int(input()))], sep=\"\\n\")"
   ],
   "metadata": {
    "collapsed": false,
    "pycharm": {
     "name": "#%%\n"
    }
   }
  },
  {
   "cell_type": "markdown",
   "source": [
    "Напиши программу, которая сгенерирует и выведет n случайных четных чисел от 0 (включительно) до 100 (не включительно)\n",
    "\n",
    "В единственной строчке вводится число n"
   ],
   "metadata": {
    "collapsed": false,
    "pycharm": {
     "name": "#%% md\n"
    }
   }
  },
  {
   "cell_type": "code",
   "execution_count": null,
   "outputs": [],
   "source": [
    "from random import randrange\n",
    "\n",
    "for _ in range(int(input())):\n",
    "    print(randrange(0, 100, 2))"
   ],
   "metadata": {
    "collapsed": false,
    "pycharm": {
     "name": "#%%\n"
    }
   }
  },
  {
   "cell_type": "code",
   "execution_count": null,
   "outputs": [],
   "source": [
    "import random\n",
    "\n",
    "[print(random.randrange(0, 100, 2)) for _ in range(int(input()))]"
   ],
   "metadata": {
    "collapsed": false,
    "pycharm": {
     "name": "#%%\n"
    }
   }
  },
  {
   "cell_type": "markdown",
   "source": [
    "Функция randint() возвращает целое число от a до b включительно\n",
    "\n",
    "import random\n",
    "\n",
    "print(random.randint(5, 10))"
   ],
   "metadata": {
    "collapsed": false,
    "pycharm": {
     "name": "#%% md\n"
    }
   }
  },
  {
   "cell_type": "markdown",
   "source": [
    "Напиши программу, которая смоделирует n бросков кубика (на кубике равновероятно выпадают числа 1, 2, 3, 4, 5 и 6) Каждый результат броска нужно написать в новой строчке\n",
    "\n",
    "В единственной строчке вводится число n"
   ],
   "metadata": {
    "collapsed": false,
    "pycharm": {
     "name": "#%% md\n"
    }
   }
  },
  {
   "cell_type": "code",
   "execution_count": null,
   "outputs": [],
   "source": [
    "print(*[__import__('random').randint(1, 6) for _ in range(int(input()))], sep=\"\\n\")"
   ],
   "metadata": {
    "collapsed": false,
    "pycharm": {
     "name": "#%%\n"
    }
   }
  },
  {
   "cell_type": "markdown",
   "source": [
    "Напиши программу, которая смоделирует n бросков монетки. Нужно вывести строку \"орел\" (без кавычек) если выпал орел и строку \"решка\" (если выпала решка), если монета упала на ребро, то нужно вывести строку \"ребро\" (без кавычек)\n",
    "\n",
    "Считать что монета падает на ребро в одном случае из тысячи, а результат \"орел\" и \"решка\" равновероятны\n",
    "\n",
    "В единственной строчке вводится число n"
   ],
   "metadata": {
    "collapsed": false,
    "pycharm": {
     "name": "#%% md\n"
    }
   }
  },
  {
   "cell_type": "code",
   "execution_count": 6,
   "outputs": [
    {
     "name": "stdout",
     "output_type": "stream",
     "text": [
      "решка\n",
      "орел\n",
      "решка\n",
      "решка\n",
      "решка\n"
     ]
    }
   ],
   "source": [
    "n = int(input())\n",
    "\n",
    "import random\n",
    "\n",
    "for i in range(n):\n",
    "    result = random.randint(1, 1001)\n",
    "    if result == 1000:\n",
    "        print(\"ребро\")\n",
    "    elif result % 2 == 0:\n",
    "        print(\"орел\")\n",
    "    else:\n",
    "        print(\"решка\")"
   ],
   "metadata": {
    "collapsed": false,
    "pycharm": {
     "name": "#%%\n"
    }
   }
  },
  {
   "cell_type": "markdown",
   "source": [
    "Игра в рулетку (- зло)\n",
    "\n",
    "Напиши программу которая считает ставку (\"красное\", \"черное\" или \"зеленое\"), и сгенерирует случайное число от 0 до 36 - выпавший слот. Если \"выпавшей\" цвет выпавшего сектора совпадает со считанным, то нужно ввести строку \"ставка сыграла\" (без кавычек), иначе нужно вывести строку \"ставка не сыграла\"\n"
   ],
   "metadata": {
    "collapsed": false,
    "pycharm": {
     "name": "#%% md\n"
    }
   }
  },
  {
   "cell_type": "code",
   "execution_count": null,
   "outputs": [],
   "source": [
    "import random\n",
    "\n",
    "n = random.randrange(37)\n",
    "\n",
    "s = 'черный'\n",
    "if n == 0:\n",
    "    s = 'зеленый'\n",
    "elif (1 <= n <= 10 or 19 <= n <= 28) and n % 2 or (11 <= n <= 18 or 29 <= n <= 36) and not n % 2:\n",
    "    s = 'красный'\n",
    "\n",
    "if input() == s:\n",
    "    print('ставка сыграла')\n",
    "else:\n",
    "    print('ставка не сыграла')"
   ],
   "metadata": {
    "collapsed": false,
    "pycharm": {
     "name": "#%%\n"
    }
   }
  },
  {
   "cell_type": "code",
   "execution_count": null,
   "outputs": [],
   "source": [
    "import random\n",
    "f = lambda n,s: f\"ставка {('','не ')[s!=('','красное','черное','зеленое')[(n<12)+(n<24)+(n<37)]]}сыграла\"\n",
    "print(f(random.randint(0,36),input()))"
   ],
   "metadata": {
    "collapsed": false,
    "pycharm": {
     "name": "#%%\n"
    }
   }
  },
  {
   "cell_type": "code",
   "execution_count": null,
   "outputs": [],
   "source": [
    "import random\n",
    "\n",
    "def determine_color(number):\n",
    "    if number == 0:\n",
    "        return \"зеленое\"\n",
    "    elif number in {1, 3, 5, 7, 9, 12, 14, 16, 18, 19, 21, 23, 25, 27, 30, 32, 34, 36}:\n",
    "        return \"красное\"\n",
    "    else:\n",
    "        return \"черное\"\n",
    "\n",
    "\n",
    "bet = input().strip().lower()\n",
    "rolled_number = random.randint(0, 36)\n",
    "rolled_color = determine_color(rolled_number)\n",
    "\n",
    "\n",
    "if bet == rolled_color:\n",
    "    print(\"ставка сыграла\")\n",
    "else:\n",
    "    print(\"ставка не сыграла\")"
   ],
   "metadata": {
    "collapsed": false,
    "pycharm": {
     "name": "#%%\n"
    }
   }
  }
 ],
 "metadata": {
  "kernelspec": {
   "display_name": "Python 3",
   "language": "python",
   "name": "python3"
  },
  "language_info": {
   "codemirror_mode": {
    "name": "ipython",
    "version": 2
   },
   "file_extension": ".py",
   "mimetype": "text/x-python",
   "name": "python",
   "nbconvert_exporter": "python",
   "pygments_lexer": "ipython2",
   "version": "2.7.6"
  }
 },
 "nbformat": 4,
 "nbformat_minor": 0
}
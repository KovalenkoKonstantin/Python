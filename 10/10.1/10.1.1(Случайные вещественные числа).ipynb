﻿{
 "cells": [
  {
   "cell_type": "markdown",
   "source": [
    "Для генерации случайного вещественного числа в диапазоне от a (включительно) до b (не включительно) можно использовать функцию uniform()\n",
    "\n",
    "import random\n",
    "print(random.uniform(5, 10))\n",
    "может вывести\n",
    "\n",
    "7.23467"
   ],
   "metadata": {
    "collapsed": false,
    "pycharm": {
     "name": "#%% md\n"
    }
   }
  },
  {
   "cell_type": "markdown",
   "source": [
    "Напиши программу, которая будет предсказывать курс юаня (в иенах) на 2025 год\n",
    "\n",
    "Программа должна выводить строку \"По известным данным ориентировочный курс юаня на 2025 год будет составлять <курс> иен\" (без кавычек)\n",
    "\n",
    "(Вместо <курс>  подставить случайное число с 2 знаками после запятой от 15 до 25)"
   ],
   "metadata": {
    "collapsed": false,
    "pycharm": {
     "name": "#%% md\n"
    }
   }
  },
  {
   "cell_type": "code",
   "execution_count": 17,
   "outputs": [
    {
     "name": "stdout",
     "output_type": "stream",
     "text": [
      "По известным данным ориентировочный курс юаня на 2025 год будет составлять 16.33 иен\n"
     ]
    }
   ],
   "source": [
    "import random\n",
    "\n",
    "print(f'По известным данным ориентировочный курс юаня на 2025 год будет составлять {round(random.uniform(15, 25), 2)} иен')"
   ],
   "metadata": {
    "collapsed": false,
    "pycharm": {
     "name": "#%%\n"
    }
   }
  },
  {
   "cell_type": "markdown",
   "source": [
    "Для более удобного импортирования модуля random можно использовать такую конструкцию:\n",
    "\n",
    "from random import random, uniform # импортируем функции random и uniform\n",
    "\n",
    "# теперь можно обращаться к этим функциям не random.<что-то там>, а просто <что-то там>\n",
    "\n",
    "print(random())\n",
    "print(uniform(0, 100))\n",
    "может выводить\n",
    "\n",
    "0.2514562728020474\n",
    "87.83670290036947\n",
    "Вместо перечисления всех нужных нам функций можно использовать звездочку (\"*\"), и тогда будут импортированы все функции (переменные, классы) модуля\n",
    "\n",
    "from random import * # Импортируем все содержимое модуля random\n",
    "\n",
    "# теперь можно обращаться к функциям модуля random не random.<что-то там>, а просто <что-то там>\n",
    "\n",
    "print(random())\n",
    "print(uniform(0, 100))\n",
    "может выводить\n",
    "\n",
    "0.5187845286111756\n",
    "28.539875108747747"
   ],
   "metadata": {
    "collapsed": false,
    "pycharm": {
     "name": "#%% md\n"
    }
   }
  }
 ],
 "metadata": {
  "kernelspec": {
   "display_name": "Python 3",
   "language": "python",
   "name": "python3"
  },
  "language_info": {
   "codemirror_mode": {
    "name": "ipython",
    "version": 2
   },
   "file_extension": ".py",
   "mimetype": "text/x-python",
   "name": "python",
   "nbconvert_exporter": "python",
   "pygments_lexer": "ipython2",
   "version": "2.7.6"
  }
 },
 "nbformat": 4,
 "nbformat_minor": 0
}
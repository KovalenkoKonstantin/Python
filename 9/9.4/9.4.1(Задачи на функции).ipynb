﻿{
 "cells": [
  {
   "cell_type": "markdown",
   "source": [
    "Напиши функцию s, которая будет принимать вещественное число r, и возвращать площадь круга с таким радиусом.\n",
    "\n",
    "Считай что пи равно 3.1415\n",
    "\n",
    "\n",
    "Sample Input:\n",
    "\n",
    "1.0\n",
    "Sample Output:\n",
    "\n",
    "3.14"
   ],
   "metadata": {
    "collapsed": false,
    "pycharm": {
     "name": "#%% md\n"
    }
   }
  },
  {
   "cell_type": "code",
   "execution_count": 3,
   "outputs": [
    {
     "name": "stdout",
     "output_type": "stream",
     "text": [
      "15.707500000000001\n"
     ]
    }
   ],
   "source": [
    "#put your code here\n",
    "def s(r):\n",
    "    return r ** 2 * 3.1415\n",
    "\n",
    "\n",
    "r = float(input())\n",
    "\n",
    "print(s(r))"
   ],
   "metadata": {
    "collapsed": false,
    "pycharm": {
     "name": "#%%\n"
    }
   }
  }
 ],
 "metadata": {
  "kernelspec": {
   "display_name": "Python 3",
   "language": "python",
   "name": "python3"
  },
  "language_info": {
   "codemirror_mode": {
    "name": "ipython",
    "version": 2
   },
   "file_extension": ".py",
   "mimetype": "text/x-python",
   "name": "python",
   "nbconvert_exporter": "python",
   "pygments_lexer": "ipython2",
   "version": "2.7.6"
  }
 },
 "nbformat": 4,
 "nbformat_minor": 0
}
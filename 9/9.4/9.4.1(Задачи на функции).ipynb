﻿{
 "cells": [
  {
   "cell_type": "markdown",
   "source": [
    "Напиши функцию s, которая будет принимать вещественное число r, и возвращать площадь круга с таким радиусом.\n",
    "\n",
    "Считай что пи равно 3.1415\n",
    "\n",
    "\n",
    "Sample Input:\n",
    "\n",
    "1.0\n",
    "Sample Output:\n",
    "\n",
    "3.14"
   ],
   "metadata": {
    "collapsed": false,
    "pycharm": {
     "name": "#%% md\n"
    }
   }
  },
  {
   "cell_type": "code",
   "execution_count": 3,
   "outputs": [
    {
     "name": "stdout",
     "output_type": "stream",
     "text": [
      "15.707500000000001\n"
     ]
    }
   ],
   "source": [
    "#put your code here\n",
    "def s(r):\n",
    "    return r ** 2 * 3.1415\n",
    "\n",
    "\n",
    "r = float(input())\n",
    "\n",
    "print(s(r))"
   ],
   "metadata": {
    "collapsed": false,
    "pycharm": {
     "name": "#%%\n"
    }
   }
  },
  {
   "cell_type": "markdown",
   "source": [
    "Напиши функцию cylinder_volume, которая будет принимать два вещественных числа r и h - радиус и высоту цилиндра, и будет возвращать объем цилиндра с такими радиусом и высотой\n",
    "\n",
    "Считай, что пи равно 3.1415\n",
    "\n",
    "Sample Input:\n",
    "\n",
    "1.0 2.0\n",
    "Sample Output:\n",
    "\n",
    "6.283"
   ],
   "metadata": {
    "collapsed": false,
    "pycharm": {
     "name": "#%% md\n"
    }
   }
  },
  {
   "cell_type": "code",
   "execution_count": null,
   "outputs": [],
   "source": [
    "# put your code here\n",
    "def cylinder_volume(r, h):\n",
    "    return 3.1415 * h * r ** 2\n",
    "\n",
    "\n",
    "r, h = [float(i) for i in input().split()]\n",
    "\n",
    "print(cylinder_volume(r, h))"
   ],
   "metadata": {
    "collapsed": false,
    "pycharm": {
     "name": "#%%\n"
    }
   }
  },
  {
   "cell_type": "markdown",
   "source": [
    "Напиши функцию cylinder_surface_area, которая будет принимать два вещественных числа r и h - радиус и высоту цилиндра, и будет возвращать площадь поверхности цилиндра с такими радиусом и высотой\n",
    "\n",
    "Считай, что пи равно 3.1415\n",
    "\n",
    "Sample Input:\n",
    "\n",
    "1.0 2.0\n",
    "Sample Output:\n",
    "\n",
    "18.849"
   ],
   "metadata": {
    "collapsed": false,
    "pycharm": {
     "name": "#%% md\n"
    }
   }
  },
  {
   "cell_type": "code",
   "execution_count": null,
   "outputs": [],
   "source": [
    "#put your code here\n",
    "def cylinder_surface_area(r, h):\n",
    "    return 2 * 3.1415 * r ** 2 + 2 * 3.1415 * r * h\n",
    "\n",
    "\n",
    "r, h = [float(i) for i in input().split()]\n",
    "\n",
    "print(cylinder_surface_area(r, h))"
   ],
   "metadata": {
    "collapsed": false,
    "pycharm": {
     "name": "#%%\n"
    }
   }
  },
  {
   "cell_type": "markdown",
   "source": [
    "Напиши функцию sphere_volume, которая будет принимать одно вещественное число r - радиус сферы, и будет возвращать объем сферы с таким радиусом\n",
    "\n",
    "Считай, что пи равно 3.1415\n",
    "\n",
    "Sample Input:\n",
    "\n",
    "1.0\n",
    "Sample Output:\n",
    "\n",
    "4.188666666666666"
   ],
   "metadata": {
    "collapsed": false,
    "pycharm": {
     "name": "#%% md\n"
    }
   }
  },
  {
   "cell_type": "code",
   "execution_count": null,
   "outputs": [],
   "source": [
    "# put your code here\n",
    "def sphere_volume(r):\n",
    "    return 4 / 3 * 3.1415 * r ** 3\n",
    "\n",
    "\n",
    "r = float(input())\n",
    "\n",
    "print(sphere_volume(r))"
   ],
   "metadata": {
    "collapsed": false,
    "pycharm": {
     "name": "#%%\n"
    }
   }
  },
  {
   "cell_type": "markdown",
   "source": [
    "Реализуй функцию avg, которая принимает 3 числа и выводить среднее по величине число (НЕ среднее арифметическое).\n",
    "\n",
    "Например средним из трех чисел 1, 2 и 100 будет число 2 (оно больше 1 и меньше 100)\n",
    "\n",
    "Sample Input 1:\n",
    "\n",
    "1\n",
    "2\n",
    "3\n",
    "Sample Output 1:\n",
    "\n",
    "2\n",
    "Sample Input 2:\n",
    "\n",
    "6\n",
    "3\n",
    "8\n",
    "Sample Output 2:\n",
    "\n",
    "6"
   ],
   "metadata": {
    "collapsed": false,
    "pycharm": {
     "name": "#%% md\n"
    }
   }
  },
  {
   "cell_type": "code",
   "execution_count": null,
   "outputs": [],
   "source": [
    "#put your code here\n",
    "def avg(a, b, c):\n",
    "    l = sorted([a, b, c])\n",
    "    return l[1]\n",
    "\n",
    "\n",
    "print(avg(int(input()), int(input()), int(input())))"
   ],
   "metadata": {
    "collapsed": false,
    "pycharm": {
     "name": "#%%\n"
    }
   }
  },
  {
   "cell_type": "code",
   "execution_count": null,
   "outputs": [],
   "source": [
    "def avg(a, b, c):\n",
    "    return sorted([a, b, c])[1]\n",
    "\n",
    "\n",
    "print(avg(int(input()), int(input()), int(input())))"
   ],
   "metadata": {
    "collapsed": false,
    "pycharm": {
     "name": "#%%\n"
    }
   }
  },
  {
   "cell_type": "code",
   "execution_count": null,
   "outputs": [],
   "source": [
    "def avg(a: int, b: int, c: int) -> int:\n",
    "    \"\"\"Функция, которая возвращает среднее по величине число\"\"\"\n",
    "    return sorted([a, b, c])[1]\n",
    "\n",
    "\n",
    "print(avg(int(input()), int(input()), int(input())))"
   ],
   "metadata": {
    "collapsed": false,
    "pycharm": {
     "name": "#%%\n"
    }
   }
  },
  {
   "cell_type": "code",
   "execution_count": null,
   "outputs": [],
   "source": [
    "def get_average(*args: [int]) -> int:\n",
    "    return sorted(args)[1]\n",
    "\n",
    "\n",
    "print(get_average(int(input()), int(input()), int(input())))"
   ],
   "metadata": {
    "collapsed": false,
    "pycharm": {
     "name": "#%%\n"
    }
   }
  },
  {
   "cell_type": "code",
   "execution_count": null,
   "outputs": [],
   "source": [
    "avg = lambda a, b, c: sorted([a, b, c])[1]\n",
    "\n",
    "print(avg(int(input()), int(input()), int(input())))"
   ],
   "metadata": {
    "collapsed": false,
    "pycharm": {
     "name": "#%%\n"
    }
   }
  },
  {
   "cell_type": "markdown",
   "source": [
    "Реализуй функцию s, которая будет принимать 3 вещественных числа a, b и c и будет возвращать площадь треугольника с такими сторонами. Если треугольника с такими сторонами не существует нужно возвращать -1\n",
    "\n",
    "Площадь треугольника считается по формуле Герона:\n",
    "корень из p(p−a)(p−b)(p−c)\n",
    " , где\n",
    "p - полупериметр треугольника (а a, b и c - его стороны)\n",
    "\n",
    "Sample Input 1:\n",
    "\n",
    "1\n",
    "1\n",
    "1\n",
    "Sample Output 1:\n",
    "\n",
    "0.433\n",
    "Sample Input 2:\n",
    "\n",
    "5\n",
    "4\n",
    "10\n",
    "Sample Output 2:\n",
    "\n",
    "-1"
   ],
   "metadata": {
    "collapsed": false,
    "pycharm": {
     "name": "#%% md\n"
    }
   }
  },
  {
   "cell_type": "code",
   "execution_count": null,
   "outputs": [],
   "source": [
    "#put your code here\n",
    "import math\n",
    "\n",
    "\n",
    "def s(a, b, c):\n",
    "    try:\n",
    "        p = 1 / 2 * (a + b + c)\n",
    "    except:\n",
    "        p = -1\n",
    "    result = math.sqrt(p * (p - a) * (p - b) * (p - c))\n",
    "    return result\n",
    "\n",
    "\n",
    "a = float(input())\n",
    "b = float(input())\n",
    "c = float(input())\n",
    "\n",
    "print(round(s(a, b, c), 3))"
   ],
   "metadata": {
    "collapsed": false,
    "pycharm": {
     "name": "#%%\n",
     "is_executing": true
    }
   }
  },
  {
   "cell_type": "code",
   "execution_count": null,
   "outputs": [],
   "source": [
    "def s(a: float, b: float, c: float) -> float:\n",
    "    \"\"\"Функция, которая возвращает площадь треугольника. Если треугольника не существует возвращает -1\"\"\"\n",
    "    if a + b > c and a + c > b and b + c > a:\n",
    "        p = (a + b + c) / 2\n",
    "        return (p * (p - a) * (p - b) * (p - c)) ** 0.5\n",
    "    return -1\n",
    "\n",
    "a = float(input())\n",
    "b = float(input())\n",
    "c = float(input())\n",
    "\n",
    "print(round(s(a, b, c), 3))"
   ],
   "metadata": {
    "collapsed": false,
    "pycharm": {
     "name": "#%%\n"
    }
   }
  }
 ],
 "metadata": {
  "kernelspec": {
   "display_name": "Python 3",
   "language": "python",
   "name": "python3"
  },
  "language_info": {
   "codemirror_mode": {
    "name": "ipython",
    "version": 2
   },
   "file_extension": ".py",
   "mimetype": "text/x-python",
   "name": "python",
   "nbconvert_exporter": "python",
   "pygments_lexer": "ipython2",
   "version": "2.7.6"
  }
 },
 "nbformat": 4,
 "nbformat_minor": 0
}
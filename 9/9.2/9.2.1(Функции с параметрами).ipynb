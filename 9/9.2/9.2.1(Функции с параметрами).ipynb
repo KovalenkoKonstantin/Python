﻿{
 "cells": [
  {
   "cell_type": "markdown",
   "source": [
    "Реализуйте функцию rectangle, которая принимает 2 числа - a  и  b и выводит прямоугольник со сторонами a и b из звездочек (\"*\")\n",
    "\n",
    "\n",
    "\n",
    "Сложность:\n",
    "\n",
    "Sample Input:\n",
    "\n",
    "5\n",
    "4\n",
    "Sample Output:\n",
    "\n",
    "****\n",
    "****\n",
    "****\n",
    "****\n",
    "****"
   ],
   "metadata": {
    "collapsed": false,
    "pycharm": {
     "name": "#%% md\n"
    }
   }
  },
  {
   "cell_type": "code",
   "execution_count": 1,
   "outputs": [
    {
     "name": "stdout",
     "output_type": "stream",
     "text": [
      "****\n",
      "****\n",
      "****\n",
      "****\n",
      "****\n"
     ]
    }
   ],
   "source": [
    "def print_rectangle(a, b):\n",
    "    for i in range(a):\n",
    "        for j in range(b):\n",
    "            print('*', end='')\n",
    "        print()\n",
    "\n",
    "\n",
    "print_rectangle(5, 4)"
   ],
   "metadata": {
    "collapsed": false,
    "pycharm": {
     "name": "#%%\n"
    }
   }
  },
  {
   "cell_type": "code",
   "execution_count": 2,
   "outputs": [
    {
     "name": "stdout",
     "output_type": "stream",
     "text": [
      "****\n",
      "****\n",
      "****\n",
      "****\n",
      "****\n"
     ]
    }
   ],
   "source": [
    "def rectangle(a, b):\n",
    "    for i in range(a):\n",
    "        print('*' * b)\n",
    "\n",
    "\n",
    "rectangle(5, 4)"
   ],
   "metadata": {
    "collapsed": false,
    "pycharm": {
     "name": "#%%\n"
    }
   }
  },
  {
   "cell_type": "markdown",
   "source": [
    "Реализуйте функцию square, которая принимает число - a  и  символ c и выводит квадрат со стороной a, состоящий из символов c.\n",
    "\n",
    "Sample Input:\n",
    "\n",
    "3\n",
    "a\n",
    "Sample Output:\n",
    "\n",
    "aaa\n",
    "aaa\n",
    "aaa"
   ],
   "metadata": {
    "collapsed": false,
    "pycharm": {
     "name": "#%% md\n"
    }
   }
  },
  {
   "cell_type": "code",
   "execution_count": 3,
   "outputs": [
    {
     "name": "stdout",
     "output_type": "stream",
     "text": [
      "aaa\n",
      "aaa\n",
      "aaa\n"
     ]
    }
   ],
   "source": [
    "#put your code here\n",
    "def square(a, b):\n",
    "    for i in range(a):\n",
    "        print(b * a)\n",
    "\n",
    "\n",
    "square(3, 'a')"
   ],
   "metadata": {
    "collapsed": false,
    "pycharm": {
     "name": "#%%\n"
    }
   }
  },
  {
   "cell_type": "markdown",
   "source": [
    "Реализуй функцию line, которая принимает число n - длину строки и выводит\n",
    "\n",
    "строку из n знаков \"+\", если число n положительно\n",
    "строку из -n знаков \"-\", если оно отрицательно\n",
    "Если n = 0, то функция не должна ничего выводить.\n",
    "\n",
    "Sample Input:\n",
    "\n",
    "3\n",
    "Sample Output:\n",
    "\n",
    "+++"
   ],
   "metadata": {
    "collapsed": false,
    "pycharm": {
     "name": "#%% md\n"
    }
   }
  },
  {
   "cell_type": "code",
   "execution_count": 7,
   "outputs": [
    {
     "name": "stdout",
     "output_type": "stream",
     "text": [
      "\n",
      "None\n"
     ]
    }
   ],
   "source": [
    "def line(a):\n",
    "    if a > 0:\n",
    "        print('+' * a)\n",
    "    elif a < 0:\n",
    "        print('-' * abs(a))\n",
    "    else:\n",
    "        print()\n",
    "\n",
    "\n",
    "print(line(0))"
   ],
   "metadata": {
    "collapsed": false,
    "pycharm": {
     "name": "#%%\n"
    }
   }
  },
  {
   "cell_type": "markdown",
   "source": [
    "Реализуйте функцию triangle, которая принимает число n и выводит прямоугольный треугольник с катетами равными n из звездочек (\"*\")\n",
    "\n",
    "Sample Input:\n",
    "\n",
    "5\n",
    "Sample Output:\n",
    "\n",
    "*\n",
    "**\n",
    "***\n",
    "****\n",
    "*****"
   ],
   "metadata": {
    "collapsed": false,
    "pycharm": {
     "name": "#%% md\n"
    }
   }
  },
  {
   "cell_type": "code",
   "execution_count": null,
   "outputs": [],
   "source": [
    "def triangle(n):\n",
    "    for i in range(abs(n) + 1):\n",
    "        print('*' * i)\n",
    "\n",
    "\n",
    "triangle(int(input()))"
   ],
   "metadata": {
    "collapsed": false,
    "pycharm": {
     "name": "#%%\n"
    }
   }
  },
  {
   "cell_type": "code",
   "execution_count": null,
   "outputs": [],
   "source": [
    "def triangle(n):\n",
    "    [print('*' * i) for i in range(1, n + 1)]\n",
    "\n",
    "\n",
    "triangle(int(input()))"
   ],
   "metadata": {
    "collapsed": false,
    "pycharm": {
     "name": "#%%\n"
    }
   }
  },
  {
   "cell_type": "markdown",
   "source": [
    "Реализуйте функцию frame, которая будет принимать 2 числа a и b, и выводить рамку размером a * b\n",
    "\n",
    "Sample Input:\n",
    "\n",
    "4\n",
    "5\n",
    "Sample Output:\n",
    "\n",
    "+---+\n",
    "|   |\n",
    "|   |\n",
    "+---+"
   ],
   "metadata": {
    "collapsed": false,
    "pycharm": {
     "name": "#%% md\n"
    }
   }
  },
  {
   "cell_type": "code",
   "execution_count": 10,
   "outputs": [
    {
     "name": "stdout",
     "output_type": "stream",
     "text": [
      "+---+\n",
      "|   |\n",
      "|   |\n",
      "+---+\n",
      "\n"
     ]
    }
   ],
   "source": [
    "def frame(a, b):\n",
    "    result = ''\n",
    "    for i in range(a):\n",
    "        if i == 0 or i == a - 1:\n",
    "            result += '+' + '-' * (b - 2) + '+\\n'\n",
    "        else:\n",
    "            result += '|' + ' ' * (b - 2) + '|\\n'\n",
    "    print(result)\n",
    "\n",
    "\n",
    "frame(int(input()), int(input()))"
   ],
   "metadata": {
    "collapsed": false,
    "pycharm": {
     "name": "#%%\n"
    }
   }
  },
  {
   "cell_type": "markdown",
   "source": [
    "Сократите код Cакуры"
   ],
   "metadata": {
    "collapsed": false,
    "pycharm": {
     "name": "#%% md\n"
    }
   }
  },
  {
   "cell_type": "code",
   "execution_count": null,
   "outputs": [],
   "source": [
    "n, m = int(input()), int(input())\n",
    "\n",
    "for i in range(n):\n",
    "    for j in range(m):\n",
    "        print(\"*\", end=\"\")\n",
    "    print()\n",
    "\n",
    "print()\n",
    "\n",
    "for i in range(3):\n",
    "    print(\"*\" * 4)\n",
    "\n",
    "print()\n",
    "\n",
    "for i in range(m):\n",
    "    s = \"\"\n",
    "    for j in range(n):\n",
    "        s += \"*\"\n",
    "    print(s)\n",
    "\n",
    "print()\n",
    "\n",
    "s1 = \"\"\n",
    "for i in range(5):\n",
    "    s2 = \"\"\n",
    "    for j in range(5):\n",
    "        s2 += \"*\"\n",
    "    s1 += s2\n",
    "    s1 += \"\\n\"\n",
    "print(s1)\n",
    "\n",
    "print((\"*\" * n + \"\\n\") * m)"
   ],
   "metadata": {
    "collapsed": false,
    "pycharm": {
     "name": "#%%\n"
    }
   }
  },
  {
   "cell_type": "code",
   "execution_count": null,
   "outputs": [],
   "source": [
    "def rectangle(n, m):\n",
    "    # n, m = int(input()), int(input())\n",
    "\n",
    "    for i in range(n):\n",
    "        for j in range(m):\n",
    "            print(\"*\", end=\"\")\n",
    "        print()\n",
    "\n",
    "    print()\n",
    "\n",
    "    for i in range(3):\n",
    "        print(\"*\" * 4)\n",
    "\n",
    "    print()\n",
    "\n",
    "    for i in range(m):\n",
    "        s = \"\"\n",
    "        for j in range(n):\n",
    "            s += \"*\"\n",
    "        print(s)\n",
    "\n",
    "    print()\n",
    "\n",
    "    s1 = \"\"\n",
    "    for i in range(5):\n",
    "        s2 = \"\"\n",
    "        for j in range(5):\n",
    "            s2 += \"*\"\n",
    "        s1 += s2\n",
    "        s1 += \"\\n\"\n",
    "    print(s1)\n",
    "\n",
    "    print((\"*\" * n + \"\\n\") * m)\n",
    "\n",
    "rectangle(int(input()), int(input()))"
   ],
   "metadata": {
    "collapsed": false,
    "pycharm": {
     "name": "#%%\n"
    }
   }
  }
 ],
 "metadata": {
  "kernelspec": {
   "display_name": "Python 3",
   "language": "python",
   "name": "python3"
  },
  "language_info": {
   "codemirror_mode": {
    "name": "ipython",
    "version": 2
   },
   "file_extension": ".py",
   "mimetype": "text/x-python",
   "name": "python",
   "nbconvert_exporter": "python",
   "pygments_lexer": "ipython2",
   "version": "2.7.6"
  }
 },
 "nbformat": 4,
 "nbformat_minor": 0
}
﻿{
 "cells": [
  {
   "cell_type": "markdown",
   "source": [
    "Реализуйте функцию rectangle, которая принимает 2 числа - a  и  b и выводит прямоугольник со сторонами a и b из звездочек (\"*\")\n",
    "\n",
    "\n",
    "\n",
    "Сложность:\n",
    "\n",
    "Sample Input:\n",
    "\n",
    "5\n",
    "4\n",
    "Sample Output:\n",
    "\n",
    "****\n",
    "****\n",
    "****\n",
    "****\n",
    "****"
   ],
   "metadata": {
    "collapsed": false,
    "pycharm": {
     "name": "#%% md\n"
    }
   }
  },
  {
   "cell_type": "code",
   "execution_count": 1,
   "outputs": [
    {
     "name": "stdout",
     "output_type": "stream",
     "text": [
      "****\n",
      "****\n",
      "****\n",
      "****\n",
      "****\n"
     ]
    }
   ],
   "source": [
    "def print_rectangle(a, b):\n",
    "    for i in range(a):\n",
    "        for j in range(b):\n",
    "            print('*', end='')\n",
    "        print()\n",
    "\n",
    "print_rectangle(5, 4)"
   ],
   "metadata": {
    "collapsed": false,
    "pycharm": {
     "name": "#%%\n"
    }
   }
  },
  {
   "cell_type": "code",
   "execution_count": 2,
   "outputs": [
    {
     "name": "stdout",
     "output_type": "stream",
     "text": [
      "****\n",
      "****\n",
      "****\n",
      "****\n",
      "****\n"
     ]
    }
   ],
   "source": [
    "def rectangle(a, b):\n",
    "    for i in range(a):\n",
    "        print('*' * b)\n",
    "\n",
    "rectangle(5, 4)"
   ],
   "metadata": {
    "collapsed": false,
    "pycharm": {
     "name": "#%%\n"
    }
   }
  },
  {
   "cell_type": "markdown",
   "source": [
    "Реализуйте функцию square, которая принимает число - a  и  символ c и выводит квадрат со стороной a, состоящий из символов c.\n",
    "\n",
    "Sample Input:\n",
    "\n",
    "3\n",
    "a\n",
    "Sample Output:\n",
    "\n",
    "aaa\n",
    "aaa\n",
    "aaa"
   ],
   "metadata": {
    "collapsed": false,
    "pycharm": {
     "name": "#%% md\n"
    }
   }
  },
  {
   "cell_type": "code",
   "execution_count": 3,
   "outputs": [
    {
     "name": "stdout",
     "output_type": "stream",
     "text": [
      "aaa\n",
      "aaa\n",
      "aaa\n"
     ]
    }
   ],
   "source": [
    "#put your code here\n",
    "def square(a, b):\n",
    "    for i in range(a):\n",
    "        print(b * a)\n",
    "\n",
    "square(3, 'a')"
   ],
   "metadata": {
    "collapsed": false,
    "pycharm": {
     "name": "#%%\n"
    }
   }
  },
  {
   "cell_type": "markdown",
   "source": [
    "Реализуй функцию line, которая принимает число n - длину строки и выводит\n",
    "\n",
    "строку из n знаков \"+\", если число n положительно\n",
    "строку из -n знаков \"-\", если оно отрицательно\n",
    "Если n = 0, то функция не должна ничего выводить.\n",
    "\n",
    "Sample Input:\n",
    "\n",
    "3\n",
    "Sample Output:\n",
    "\n",
    "+++"
   ],
   "metadata": {
    "collapsed": false,
    "pycharm": {
     "name": "#%% md\n"
    }
   }
  },
  {
   "cell_type": "code",
   "execution_count": 5,
   "outputs": [
    {
     "name": "stdout",
     "output_type": "stream",
     "text": [
      "None\n"
     ]
    }
   ],
   "source": [
    "def line(a):\n",
    "    if a > 0:\n",
    "        print('+' * a)\n",
    "    elif a < 0:\n",
    "        print('-' * abs(a))\n",
    "    else:\n",
    "        print()\n",
    "\n",
    "print(line(0))"
   ],
   "metadata": {
    "collapsed": false,
    "pycharm": {
     "name": "#%%\n"
    }
   }
  }
 ],
 "metadata": {
  "kernelspec": {
   "display_name": "Python 3",
   "language": "python",
   "name": "python3"
  },
  "language_info": {
   "codemirror_mode": {
    "name": "ipython",
    "version": 2
   },
   "file_extension": ".py",
   "mimetype": "text/x-python",
   "name": "python",
   "nbconvert_exporter": "python",
   "pygments_lexer": "ipython2",
   "version": "2.7.6"
  }
 },
 "nbformat": 4,
 "nbformat_minor": 0
}
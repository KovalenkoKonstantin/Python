﻿{
 "cells": [
  {
   "cell_type": "markdown",
   "source": [
    "Напиши функцию add_one, которая будет принимать число n и возвращать n + 1\n",
    "\n",
    "Sample Input 1:\n",
    "\n",
    "39\n",
    "Sample Output 1:\n",
    "\n",
    "40\n",
    "Sample Input 2:\n",
    "\n",
    "1\n",
    "Sample Output 2:\n",
    "\n",
    "2"
   ],
   "metadata": {
    "collapsed": false,
    "pycharm": {
     "name": "#%% md\n"
    }
   }
  },
  {
   "cell_type": "code",
   "execution_count": null,
   "outputs": [],
   "source": [
    "#put your code here\n",
    "def myfunc(a):\n",
    "    return a + 1\n",
    "\n",
    "\n",
    "print(myfunc(int(input())))"
   ],
   "metadata": {
    "collapsed": false,
    "pycharm": {
     "name": "#%%\n"
    }
   }
  },
  {
   "cell_type": "markdown",
   "source": [
    "Напиши функцию s, которая принимает 2 числа и выводит их сумму\n",
    "\n",
    "Sample Input 1:\n",
    "\n",
    "1\n",
    "2\n",
    "Sample Output 1:\n",
    "\n",
    "3\n",
    "Sample Input 2:\n",
    "\n",
    "5\n",
    "100\n",
    "Sample Output 2:\n",
    "\n",
    "105"
   ],
   "metadata": {
    "collapsed": false,
    "pycharm": {
     "name": "#%% md\n"
    }
   }
  },
  {
   "cell_type": "code",
   "execution_count": null,
   "outputs": [],
   "source": [],
   "metadata": {
    "collapsed": false,
    "pycharm": {
     "name": "#%%\n"
    }
   }
  }
 ],
 "metadata": {
  "kernelspec": {
   "display_name": "Python 3",
   "language": "python",
   "name": "python3"
  },
  "language_info": {
   "codemirror_mode": {
    "name": "ipython",
    "version": 2
   },
   "file_extension": ".py",
   "mimetype": "text/x-python",
   "name": "python",
   "nbconvert_exporter": "python",
   "pygments_lexer": "ipython2",
   "version": "2.7.6"
  }
 },
 "nbformat": 4,
 "nbformat_minor": 0
}
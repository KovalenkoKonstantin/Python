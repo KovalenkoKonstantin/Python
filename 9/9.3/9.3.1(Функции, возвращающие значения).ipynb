﻿{
 "cells": [
  {
   "cell_type": "markdown",
   "source": [
    "Напиши функцию add_one, которая будет принимать число n и возвращать n + 1\n",
    "\n",
    "Sample Input 1:\n",
    "\n",
    "39\n",
    "Sample Output 1:\n",
    "\n",
    "40\n",
    "Sample Input 2:\n",
    "\n",
    "1\n",
    "Sample Output 2:\n",
    "\n",
    "2"
   ],
   "metadata": {
    "collapsed": false,
    "pycharm": {
     "name": "#%% md\n"
    }
   }
  },
  {
   "cell_type": "code",
   "execution_count": null,
   "outputs": [],
   "source": [
    "#put your code here\n",
    "def myfunc(a):\n",
    "    return a + 1\n",
    "\n",
    "\n",
    "print(myfunc(int(input())))"
   ],
   "metadata": {
    "collapsed": false,
    "pycharm": {
     "name": "#%%\n"
    }
   }
  },
  {
   "cell_type": "markdown",
   "source": [
    "Напиши функцию s, которая принимает 2 числа и выводит их сумму\n",
    "\n",
    "Sample Input 1:\n",
    "\n",
    "1\n",
    "2\n",
    "Sample Output 1:\n",
    "\n",
    "3\n",
    "Sample Input 2:\n",
    "\n",
    "5\n",
    "100\n",
    "Sample Output 2:\n",
    "\n",
    "105"
   ],
   "metadata": {
    "collapsed": false,
    "pycharm": {
     "name": "#%% md\n"
    }
   }
  },
  {
   "cell_type": "code",
   "execution_count": null,
   "outputs": [],
   "source": [
    "def myfunc(a, b):\n",
    "    return a + b\n",
    "\n",
    "\n",
    "print(myfunc(int(input()), int(input())))"
   ],
   "metadata": {
    "collapsed": false,
    "pycharm": {
     "name": "#%%\n"
    }
   }
  },
  {
   "cell_type": "markdown",
   "source": [
    "Напиши функцию f, которая принимает два целых числа и возвращает:\n",
    "\n",
    "строку \"Оба числа отрицательны\" , если оба числа отрицательны\n",
    " иначе строку \"Есть отрицательное число\", если только одно из чисел отрицательно\n",
    "иначе строку \"Есть 0\", если как минимум одно из чисел равно 0\n",
    "иначе строку \"Оба числа положительны\"\n",
    "Сложность:\n",
    "\n",
    "Sample Input:\n",
    "\n",
    "1\n",
    "2\n",
    "Sample Output:\n",
    "\n",
    "Оба числа положительны"
   ],
   "metadata": {
    "collapsed": false,
    "pycharm": {
     "name": "#%% md\n"
    }
   }
  },
  {
   "cell_type": "code",
   "execution_count": 2,
   "outputs": [
    {
     "name": "stdout",
     "output_type": "stream",
     "text": [
      "Оба числа положительны\n"
     ]
    }
   ],
   "source": [
    "def f(a, b):\n",
    "    if a < 0 and b < 0:\n",
    "        return \"Оба числа отрицательны\"\n",
    "    elif a < 0 or b < 0:\n",
    "        return \"Есть отрицательное число\"\n",
    "    elif a == 0 or b == 0:\n",
    "        return \"Есть 0\"\n",
    "    else:\n",
    "        return \"Оба числа положительны\"\n",
    "\n",
    "\n",
    "a = int(input())\n",
    "b = int(input())\n",
    "\n",
    "result = f(a, b)\n",
    "print(result)"
   ],
   "metadata": {
    "collapsed": false,
    "pycharm": {
     "name": "#%%\n"
    }
   }
  },
  {
   "cell_type": "markdown",
   "source": [
    "Напиши функцию v, которая будет принимать три положительных целых числа - а, b и c, и возвращать объем параллелепипеда (кирпича) с такими сторонами\n",
    "\n",
    "Sample Input 1:\n",
    "\n",
    "2 3 4\n",
    "Sample Output 1:\n",
    "\n",
    "24\n",
    "Sample Input 2:\n",
    "\n",
    "1 1 1\n",
    "Sample Output 2:\n",
    "\n",
    "1"
   ],
   "metadata": {
    "collapsed": false,
    "pycharm": {
     "name": "#%% md\n"
    }
   }
  },
  {
   "cell_type": "code",
   "execution_count": 4,
   "outputs": [
    {
     "name": "stdout",
     "output_type": "stream",
     "text": [
      "24\n"
     ]
    }
   ],
   "source": [
    "def v(n):\n",
    "    input_data = n.split()\n",
    "    a = int(input_data[0])\n",
    "    b = int(input_data[1])\n",
    "    c = int(input_data[2])\n",
    "    return a * b * c\n",
    "\n",
    "\n",
    "print(v(input()))\n"
   ],
   "metadata": {
    "collapsed": false,
    "pycharm": {
     "name": "#%%\n"
    }
   }
  },
  {
   "cell_type": "code",
   "execution_count": 5,
   "outputs": [
    {
     "name": "stdout",
     "output_type": "stream",
     "text": [
      "24\n"
     ]
    }
   ],
   "source": [
    "def v(a, b, c):\n",
    "    return a * b * c\n",
    "\n",
    "\n",
    "print(v(*[int(i) for i in input().split()]))"
   ],
   "metadata": {
    "collapsed": false,
    "pycharm": {
     "name": "#%%\n"
    }
   }
  },
  {
   "cell_type": "code",
   "execution_count": 9,
   "outputs": [
    {
     "name": "stdout",
     "output_type": "stream",
     "text": [
      "24\n"
     ]
    }
   ],
   "source": [
    "def v(n):\n",
    "    result = 1\n",
    "    for i in n.split():\n",
    "        result *= int(i)\n",
    "    return result\n",
    "\n",
    "\n",
    "print(v(input()))"
   ],
   "metadata": {
    "collapsed": false,
    "pycharm": {
     "name": "#%%\n"
    }
   }
  },
  {
   "cell_type": "markdown",
   "source": [
    "Напиши функцию s, которая будет принимать три положительных целых числа - а, b и c, и возвращать площадь поверхности паралелепипеда (кирпича) с такими сторонами\n",
    "\n",
    "Sample Input 1:\n",
    "\n",
    "2 3 4\n",
    "Sample Output 1:\n",
    "\n",
    "52\n",
    "Sample Input 2:\n",
    "\n",
    "1 1 1\n",
    "Sample Output 2:\n",
    "\n",
    "6"
   ],
   "metadata": {
    "collapsed": false,
    "pycharm": {
     "name": "#%% md\n"
    }
   }
  },
  {
   "cell_type": "code",
   "execution_count": null,
   "outputs": [],
   "source": [
    "def s(a, b, c):\n",
    "    return 2 * (a * b + a * c + b * c)\n",
    "\n",
    "\n",
    "a, b, c = [int(i) for i in input().split()]\n",
    "\n",
    "print(s(a, b, c))"
   ],
   "metadata": {
    "collapsed": false,
    "pycharm": {
     "name": "#%%\n"
    }
   }
  },
  {
   "cell_type": "markdown",
   "source": [
    "Напиши функцию edges_sum, которая будет принимать три положительных целых числа - а, b и c, и возвращать сумму длин ребер параллелепипеда (кирпича) с такими сторонами\n",
    "\n",
    "Sample Input 1:\n",
    "\n",
    "2 3 4\n",
    "Sample Output 1:\n",
    "\n",
    "36\n",
    "Sample Input 2:\n",
    "\n",
    "1 1 1\n",
    "Sample Output 2:\n",
    "\n",
    "12"
   ],
   "metadata": {
    "collapsed": false,
    "pycharm": {
     "name": "#%% md\n"
    }
   }
  },
  {
   "cell_type": "code",
   "execution_count": null,
   "outputs": [],
   "source": [
    "def edges_sum(a, b, c):\n",
    "    return 4 * a + 4 * b + 4 * c\n",
    "\n",
    "\n",
    "a, b, c = [int(i) for i in input().split()]\n",
    "\n",
    "print(edges_sum(a, b, c))"
   ],
   "metadata": {
    "collapsed": false,
    "pycharm": {
     "name": "#%%\n"
    }
   }
  },
  {
   "cell_type": "code",
   "execution_count": null,
   "outputs": [],
   "source": [
    "edges_sum = lambda a, b, c: 4 * (a + b + c)\n",
    "print(edges_sum(*map(int, input().split())))"
   ],
   "metadata": {
    "collapsed": false,
    "pycharm": {
     "name": "#%%\n"
    }
   }
  }
 ],
 "metadata": {
  "kernelspec": {
   "display_name": "Python 3",
   "language": "python",
   "name": "python3"
  },
  "language_info": {
   "codemirror_mode": {
    "name": "ipython",
    "version": 2
   },
   "file_extension": ".py",
   "mimetype": "text/x-python",
   "name": "python",
   "nbconvert_exporter": "python",
   "pygments_lexer": "ipython2",
   "version": "2.7.6"
  }
 },
 "nbformat": 4,
 "nbformat_minor": 0
}
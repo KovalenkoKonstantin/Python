﻿{
 "cells": [
  {
   "cell_type": "markdown",
   "source": [
    "Напиши программу, которая сложит список со строкой \"правильным образом\", добавляя в список все слова из строки.\n",
    "\n",
    "В единственной строчке вводится строка s\n",
    "\n",
    "Программа должна добавлять в список l все слова из строки s, после чего выводить список l\n",
    "\n",
    "\n",
    "Sample Input 1:\n",
    "\n",
    "добавь слова из этой строки в список\n",
    "Sample Output 1:\n",
    "\n",
    "['так', 'выглядит', 'список', 'l', 'до', 'добавления', 'в', 'него', 'слов', 'из', 'слова', 's', 'добавь', 'слова', 'из', 'этой', 'строки', 'в', 'список']\n",
    "Sample Input 2:\n",
    "\n",
    "добавляем_1_слово\n",
    "Sample Output 2:\n",
    "\n",
    "['так', 'выглядит', 'список', 'l', 'до', 'добавления', 'в', 'него', 'слов', 'из', 'слова', 's', 'добавляем_1_слово']"
   ],
   "metadata": {
    "collapsed": false,
    "pycharm": {
     "name": "#%% md\n"
    }
   }
  },
  {
   "cell_type": "code",
   "execution_count": null,
   "outputs": [],
   "source": [
    "# Ввод строки s\n",
    "s = input().split()\n",
    "\n",
    "# Заданный список\n",
    "l = ['так', 'выглядит', 'список', 'l', 'до', 'добавления', 'в', 'него', 'слов', 'из', 'слова', 's']\n",
    "\n",
    "# Добавление слов из строки s в список l\n",
    "for word in s:\n",
    "    l.append(word)\n",
    "\n",
    "# Вывод списка l\n",
    "print(l)"
   ],
   "metadata": {
    "collapsed": false,
    "pycharm": {
     "name": "#%%\n"
    }
   }
  }
 ],
 "metadata": {
  "kernelspec": {
   "display_name": "Python 3",
   "language": "python",
   "name": "python3"
  },
  "language_info": {
   "codemirror_mode": {
    "name": "ipython",
    "version": 2
   },
   "file_extension": ".py",
   "mimetype": "text/x-python",
   "name": "python",
   "nbconvert_exporter": "python",
   "pygments_lexer": "ipython2",
   "version": "2.7.6"
  }
 },
 "nbformat": 4,
 "nbformat_minor": 0
}
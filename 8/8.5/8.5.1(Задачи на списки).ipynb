﻿{
 "cells": [
  {
   "cell_type": "markdown",
   "source": [
    "Напиши программу, которая считывает два числа n и m, (каждое вводится в отдельной строчке), и выводит таблицу n на m, заполненную числами от 1 до n * m \"слева-направо сверху-вниз\" (смотри примеры ввода-вывода)\n",
    "\n",
    "Sample Input:\n",
    "\n",
    "3\n",
    "4\n",
    "Sample Output:\n",
    "\n",
    "1 2 3 4\n",
    "5 6 7 8\n",
    "9 10 11 12"
   ],
   "metadata": {
    "collapsed": false,
    "pycharm": {
     "name": "#%% md\n"
    }
   }
  },
  {
   "cell_type": "code",
   "execution_count": 23,
   "outputs": [
    {
     "name": "stdout",
     "output_type": "stream",
     "text": [
      "1 2 3 4\n",
      "5 6 7 8\n",
      "9 10 11 12\n"
     ]
    }
   ],
   "source": [
    "# n = int(input())\n",
    "# m = int(input())\n",
    "\n",
    "n = 3\n",
    "m = 4\n",
    "\n",
    "l = []\n",
    "x = 0\n",
    "for i in range(n):\n",
    "    l.append([])\n",
    "    for j in range(m):\n",
    "        l[i].append(i + j + 1 + x)\n",
    "    x += m - 1\n",
    "# print(l)\n",
    "\n",
    "for i in l:\n",
    "    print(*i)\n"
   ],
   "metadata": {
    "collapsed": false,
    "pycharm": {
     "name": "#%%\n"
    }
   }
  },
  {
   "cell_type": "code",
   "execution_count": 24,
   "outputs": [
    {
     "name": "stdout",
     "output_type": "stream",
     "text": [
      "1 2 3 4\n",
      "5 6 7 8\n",
      "9 10 11 12\n"
     ]
    }
   ],
   "source": [
    "n = int(input())\n",
    "m = int(input())\n",
    "\n",
    "l = []\n",
    "\n",
    "for i in range(n):\n",
    "    l.append([])\n",
    "    for j in range(m):\n",
    "        l[i].append(m * i + j + 1)\n",
    "\n",
    "for i in l:\n",
    "    print(*i)"
   ],
   "metadata": {
    "collapsed": false,
    "pycharm": {
     "name": "#%%\n"
    }
   }
  },
  {
   "cell_type": "code",
   "execution_count": 25,
   "outputs": [
    {
     "name": "stdout",
     "output_type": "stream",
     "text": [
      "1 2 3 4\n",
      "5 6 7 8\n",
      "9 10 11 12\n"
     ]
    }
   ],
   "source": [
    "n, m = int(input()), int(input())\n",
    "l = [[(m * i + j + 1) for j in range(m)] for i in range(n)]\n",
    "\n",
    "for i in l:\n",
    "    print(*i)"
   ],
   "metadata": {
    "collapsed": false,
    "pycharm": {
     "name": "#%%\n"
    }
   }
  },
  {
   "cell_type": "code",
   "execution_count": 27,
   "outputs": [
    {
     "name": "stdout",
     "output_type": "stream",
     "text": [
      "1 2 3 4\n",
      "5 6 7 8\n",
      "9 10 11 12\n"
     ]
    }
   ],
   "source": [
    "n, m = int(input()), int(input())\n",
    "for i in [[(m * i + j + 1) for j in range(m)] for i in range(n)]:\n",
    "    print(*i)"
   ],
   "metadata": {
    "collapsed": false,
    "pycharm": {
     "name": "#%%\n"
    }
   }
  },
  {
   "cell_type": "markdown",
   "source": [
    "Напиши программу, которая считает два числа - n и m (каждое вводится в отдельной строчке), и выведет таблицу n на m, заполненную змейкой.\n",
    "\n",
    "Sample Input:\n",
    "\n",
    "3\n",
    "4\n",
    "Sample Output:\n",
    "\n",
    "1 2 3 4\n",
    "8 7 6 5\n",
    "9 10 11 12"
   ],
   "metadata": {
    "collapsed": false,
    "pycharm": {
     "name": "#%% md\n"
    }
   }
  },
  {
   "cell_type": "code",
   "execution_count": 43,
   "outputs": [
    {
     "name": "stdout",
     "output_type": "stream",
     "text": [
      "1 2 3 4\n",
      "8 7 6 5\n",
      "9 10 11 12\n"
     ]
    }
   ],
   "source": [
    "n, m = int(input()), int(input())\n",
    "# n , m = 3, 4\n",
    "for i in [[((m * i + j + 1) if i % 2 == 0 else m * i + m - j) for j in range(m)] for i in range(n)]:\n",
    "    print(*i)"
   ],
   "metadata": {
    "collapsed": false,
    "pycharm": {
     "name": "#%%\n"
    }
   }
  },
  {
   "cell_type": "code",
   "execution_count": 44,
   "outputs": [
    {
     "name": "stdout",
     "output_type": "stream",
     "text": [
      "1 2 3 4\n",
      "8 7 6 5\n",
      "9 10 11 12\n"
     ]
    }
   ],
   "source": [
    "n, m = int(input()), int(input())\n",
    "for i in range(n):\n",
    "    if i % 2:\n",
    "        print(*list(range(m * (i + 1), m * i, -1)))\n",
    "    else:\n",
    "        print(*list(range(m * i + 1, m * (i + 1) + 1)))"
   ],
   "metadata": {
    "collapsed": false,
    "pycharm": {
     "name": "#%%\n"
    }
   }
  },
  {
   "cell_type": "markdown",
   "source": [
    "Напишите программу, которая считает 2 числа n и m, каждое в своей строчке, и выведет таблицу умножения размером n * m (смотри примеры)\n",
    "\n",
    "В качестве разделителя между столбцами используйте символ табуляции \"\\t\"\n",
    "\n",
    "Sample Input:\n",
    "\n",
    "5\n",
    "6\n",
    "Sample Output:\n",
    "\n",
    "1\t2\t3\t4\t5\t6\n",
    "2\t4\t6\t8\t10\t12\n",
    "3\t6\t9\t12\t15\t18\n",
    "4\t8\t12\t16\t20\t24\n",
    "5\t10\t15\t20\t25\t30"
   ],
   "metadata": {
    "collapsed": false,
    "pycharm": {
     "name": "#%% md\n"
    }
   }
  },
  {
   "cell_type": "code",
   "execution_count": 46,
   "outputs": [
    {
     "name": "stdout",
     "output_type": "stream",
     "text": [
      "1\t2\t3\t4\t5\t6\n",
      "2\t4\t6\t8\t10\t12\n",
      "3\t6\t9\t12\t15\t18\n",
      "4\t8\t12\t16\t20\t24\n",
      "5\t10\t15\t20\t25\t30\n"
     ]
    }
   ],
   "source": [
    "n, m = int(input()), int(input())\n",
    "# n, m = 5, 6\n",
    "l = [[(i + 1) * (j + 1) for j in range(m)]\n",
    "     for i in range(n)]\n",
    "\n",
    "for i in l:\n",
    "    print(*i, sep='\\t')"
   ],
   "metadata": {
    "collapsed": false,
    "pycharm": {
     "name": "#%%\n"
    }
   }
  },
  {
   "cell_type": "markdown",
   "source": [
    "Напиши программу, которая считает двумерный список и \"отзеркалит\" его по горизонтали (первая строчка должна поменяться местами с последней, вторая с предпоследней и так далее)\n",
    "\n",
    "В первой строчке вводится положительное целое число n - размер квадратного списка\n",
    "\n",
    " В следующих n строчках вводится по n целых чисел - очередная строка списка\n",
    "\n",
    "Sample Input:\n",
    "\n",
    "5\n",
    "1 2 3 4 5\n",
    "5 4 3 2 1\n",
    "1 1 1 1 1\n",
    "0 0 0 0 0\n",
    "3 9 6 6 6\n",
    "Sample Output:\n",
    "\n",
    "3 9 6 6 6\n",
    "0 0 0 0 0\n",
    "1 1 1 1 1\n",
    "5 4 3 2 1\n",
    "1 2 3 4 5"
   ],
   "metadata": {
    "collapsed": false,
    "pycharm": {
     "name": "#%% md\n"
    }
   }
  },
  {
   "cell_type": "code",
   "execution_count": 79,
   "outputs": [
    {
     "name": "stdout",
     "output_type": "stream",
     "text": [
      "['1 2 3', '4 5 6']\n",
      "['4 5 6', '1 2 3']\n",
      "4   5   6\n",
      "1   2   3\n"
     ]
    }
   ],
   "source": [
    "n = int(input())\n",
    "\n",
    "l = [input() for _ in range(n)]\n",
    "\n",
    "\n",
    "# print(l)\n",
    "# print(l[::-1])\n",
    "\n",
    "l2 = l[::-1]\n",
    "\n",
    "\n",
    "for i in l2:\n",
    "    print(*i, sep='')"
   ],
   "metadata": {
    "collapsed": false,
    "pycharm": {
     "name": "#%%\n"
    }
   }
  },
  {
   "cell_type": "code",
   "execution_count": null,
   "outputs": [],
   "source": [
    "for i in [[int(i) for i in input().split()] for _ in range(int(input()))][::-1]:\n",
    "    print(*i)"
   ],
   "metadata": {
    "collapsed": false,
    "pycharm": {
     "name": "#%%\n"
    }
   }
  },
  {
   "cell_type": "markdown",
   "source": [
    "Напиши программу, которая считает двумерный список и \"отзеркалит\" его относительно главной диагонали (смотри примеры ввода-вывода)\n",
    "\n",
    "В первой строчке вводится положительное целое число n - размер квадратного списка\n",
    "\n",
    " В следующих n строчках вводится по n целых чисел - очередная строка списка\n",
    "\n",
    "Sample Input:\n",
    "\n",
    "5\n",
    "1 2 3 4 5\n",
    "6 7 8 9 0\n",
    "9 8 7 6 5\n",
    "0 1 2 3 4\n",
    "0 1 2 3 4\n",
    "Sample Output:\n",
    "\n",
    "1 6 9 0 0\n",
    "2 7 8 1 1\n",
    "3 8 7 2 2\n",
    "4 9 6 3 3\n",
    "5 0 5 4 4"
   ],
   "metadata": {
    "collapsed": false,
    "pycharm": {
     "name": "#%% md\n"
    }
   }
  },
  {
   "cell_type": "code",
   "execution_count": 105,
   "outputs": [
    {
     "name": "stdout",
     "output_type": "stream",
     "text": [
      "1 4 7\n",
      "2 5 8\n",
      "3 6 9\n"
     ]
    }
   ],
   "source": [
    "n = int(input())\n",
    "\n",
    "l = [[int(i) for i in input().split()] for _ in range(n)]\n",
    "# print(l)\n",
    "\n",
    "l2 = [[0 for _ in range(n)] for _ in range(n)]\n",
    "\n",
    "for i in range(n):\n",
    "    for j in range(n):\n",
    "        l2[i][j] = l[j][i]\n",
    "\n",
    "# for i in l: print(*i)\n",
    "for i in l2: print(*i)"
   ],
   "metadata": {
    "collapsed": false,
    "pycharm": {
     "name": "#%%\n"
    }
   }
  }
 ],
 "metadata": {
  "kernelspec": {
   "display_name": "Python 3",
   "language": "python",
   "name": "python3"
  },
  "language_info": {
   "codemirror_mode": {
    "name": "ipython",
    "version": 2
   },
   "file_extension": ".py",
   "mimetype": "text/x-python",
   "name": "python",
   "nbconvert_exporter": "python",
   "pygments_lexer": "ipython2",
   "version": "2.7.6"
  }
 },
 "nbformat": 4,
 "nbformat_minor": 0
}
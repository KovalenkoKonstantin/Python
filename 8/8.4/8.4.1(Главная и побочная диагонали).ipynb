﻿{
 "cells": [
  {
   "cell_type": "markdown",
   "source": [
    "Главной диагональю в квадратной таблице называется диагональ из левого верхнего угла в правый нижний угол. Элемент находится на главной диагонали, если\n",
    "𝑖\n",
    "=\n",
    "𝑗\n",
    "i=j  (номер столбца и строки равны)\n",
    "\n",
    "В этой таблице все числа на главной диагонали равны 1, а остальные равны 0:\n",
    "\n",
    "1 0 0 0 0 0\n",
    "0 1 0 0 0 0\n",
    "0 0 1 0 0 0\n",
    "0 0 0 1 0 0\n",
    "0 0 0 0 1 0\n",
    "0 0 0 0 0 1\n",
    "Побочная диагональ в квадратной таблице - это диагональ из правого верхнего в левый нижний угол.\n",
    "\n",
    "Элемент лежит на побочной диагонали, я если\n",
    "𝑖\n",
    "+\n",
    "𝑗\n",
    "=\n",
    "𝑛\n",
    "−\n",
    "1\n",
    "i+j=n−1, где\n",
    "𝑛\n",
    "n - это длина стороны квадратной таблицы\n",
    "\n",
    "В этой таблице все числа на побочной диагонали равны 1, а остальные равны 0:\n",
    "\n",
    "0 0 0 0 0 1\n",
    "0 0 0 0 1 0\n",
    "0 0 0 1 0 0\n",
    "0 0 1 0 0 0\n",
    "0 1 0 0 0 0\n",
    "1 0 0 0 0 0\n",
    "\n"
   ],
   "metadata": {
    "collapsed": false,
    "pycharm": {
     "name": "#%% md\n"
    }
   }
  },
  {
   "cell_type": "markdown",
   "source": [
    "Напиши программу, которая выведет таблицу размером n * n, в которой все элементы на главной диагонали равны 1, а остальные 0\n",
    "\n",
    "На единственной строке вводится число n\n",
    "\n",
    "Sample Input:\n",
    "\n",
    "4\n",
    "\n",
    "Sample Output:\n",
    "\n",
    "1 0 0 0\n",
    "0 1 0 0\n",
    "0 0 1 0\n",
    "0 0 0 1"
   ],
   "metadata": {
    "collapsed": false,
    "pycharm": {
     "name": "#%% md\n"
    }
   }
  },
  {
   "cell_type": "code",
   "execution_count": 26,
   "outputs": [
    {
     "name": "stdout",
     "output_type": "stream",
     "text": [
      "[1, 0, 0, 0]\n",
      "[0, 1, 0, 0]\n",
      "[0, 0, 1, 0]\n",
      "[0, 0, 0, 1]\n"
     ]
    }
   ],
   "source": [
    "n = int(input())\n",
    "# n = 4\n",
    "m = n\n",
    "l = [[(1 if i == j else 0) for i in range(n)] for j in range(m)]\n",
    "\n",
    "for i in l:\n",
    "    print(*i)"
   ],
   "metadata": {
    "collapsed": false,
    "pycharm": {
     "name": "#%%\n"
    }
   }
  },
  {
   "cell_type": "code",
   "execution_count": 4,
   "outputs": [
    {
     "name": "stdout",
     "output_type": "stream",
     "text": [
      "range(0, 4)\n"
     ]
    }
   ],
   "source": [
    "print(range(int(input())))"
   ],
   "metadata": {
    "collapsed": false,
    "pycharm": {
     "name": "#%%\n"
    }
   }
  },
  {
   "cell_type": "code",
   "execution_count": 21,
   "outputs": [
    {
     "name": "stdout",
     "output_type": "stream",
     "text": [
      "[0, 1, 0, 1, 0, 1, 0, 1]\n",
      "[1, 0, 1, 0, 1, 0, 1, 0]\n",
      "[0, 1, 0, 1, 0, 1, 0, 1]\n",
      "[1, 0, 1, 0, 1, 0, 1, 0]\n",
      "[0, 1, 0, 1, 0, 1, 0, 1]\n",
      "[1, 0, 1, 0, 1, 0, 1, 0]\n",
      "[0, 1, 0, 1, 0, 1, 0, 1]\n",
      "[1, 0, 1, 0, 1, 0, 1, 0]\n"
     ]
    }
   ],
   "source": [
    "n = 8\n",
    "\n",
    "l = [[(i + j) % 2 for j in range(n)] for i in range(n)]\n",
    "\n",
    "for i in l:\n",
    "    print(i)"
   ],
   "metadata": {
    "collapsed": false,
    "pycharm": {
     "name": "#%%\n"
    }
   }
  },
  {
   "cell_type": "code",
   "execution_count": 27,
   "outputs": [
    {
     "name": "stdout",
     "output_type": "stream",
     "text": [
      "1 0 0 0\n",
      "0 1 0 0\n",
      "0 0 1 0\n",
      "0 0 0 1\n"
     ]
    }
   ],
   "source": [
    "n = int(input())\n",
    "\n",
    "l = []\n",
    "\n",
    "for i in range(n):\n",
    "    l.append([])\n",
    "    for j in range(n):\n",
    "        if i == j:\n",
    "            l[i].append(1)\n",
    "        else:\n",
    "            l[i].append(0)\n",
    "\n",
    "for i in l:\n",
    "    print(*i)"
   ],
   "metadata": {
    "collapsed": false,
    "pycharm": {
     "name": "#%%\n"
    }
   }
  },
  {
   "cell_type": "code",
   "execution_count": 31,
   "outputs": [
    {
     "name": "stdout",
     "output_type": "stream",
     "text": [
      "1 0 0 0\n",
      "0 1 0 0\n",
      "0 0 1 0\n",
      "0 0 0 1\n"
     ]
    }
   ],
   "source": [
    "n = int(input())\n",
    "\n",
    "for i in [[(1 if i == j else 0) for i in range(n)] for j in range(n)]:\n",
    "    print(*i)"
   ],
   "metadata": {
    "collapsed": false,
    "pycharm": {
     "name": "#%%\n"
    }
   }
  }
 ],
 "metadata": {
  "kernelspec": {
   "display_name": "Python 3",
   "language": "python",
   "name": "python3"
  },
  "language_info": {
   "codemirror_mode": {
    "name": "ipython",
    "version": 2
   },
   "file_extension": ".py",
   "mimetype": "text/x-python",
   "name": "python",
   "nbconvert_exporter": "python",
   "pygments_lexer": "ipython2",
   "version": "2.7.6"
  }
 },
 "nbformat": 4,
 "nbformat_minor": 0
}
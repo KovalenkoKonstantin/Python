﻿{
 "cells": [
  {
   "cell_type": "markdown",
   "source": [
    "Главной диагональю в квадратной таблице называется диагональ из левого верхнего угла в правый нижний угол. Элемент находится на главной диагонали, если\n",
    "𝑖\n",
    "=\n",
    "𝑗\n",
    "i=j  (номер столбца и строки равны)\n",
    "\n",
    "В этой таблице все числа на главной диагонали равны 1, а остальные равны 0:\n",
    "\n",
    "1 0 0 0 0 0\n",
    "0 1 0 0 0 0\n",
    "0 0 1 0 0 0\n",
    "0 0 0 1 0 0\n",
    "0 0 0 0 1 0\n",
    "0 0 0 0 0 1\n",
    "Побочная диагональ в квадратной таблице - это диагональ из правого верхнего в левый нижний угол.\n",
    "\n",
    "Элемент лежит на побочной диагонали, я если\n",
    "𝑖\n",
    "+\n",
    "𝑗\n",
    "=\n",
    "𝑛\n",
    "−\n",
    "1\n",
    "i+j=n−1, где\n",
    "𝑛\n",
    "n - это длина стороны квадратной таблицы\n",
    "\n",
    "В этой таблице все числа на побочной диагонали равны 1, а остальные равны 0:\n",
    "\n",
    "0 0 0 0 0 1\n",
    "0 0 0 0 1 0\n",
    "0 0 0 1 0 0\n",
    "0 0 1 0 0 0\n",
    "0 1 0 0 0 0\n",
    "1 0 0 0 0 0\n",
    "\n"
   ],
   "metadata": {
    "collapsed": false,
    "pycharm": {
     "name": "#%% md\n"
    }
   }
  },
  {
   "cell_type": "markdown",
   "source": [
    "Напиши программу, которая выведет таблицу размером n * n, в которой все элементы на главной диагонали равны 1, а остальные 0\n",
    "\n",
    "На единственной строке вводится число n\n",
    "\n",
    "Sample Input:\n",
    "\n",
    "4\n",
    "\n",
    "Sample Output:\n",
    "\n",
    "1 0 0 0\n",
    "0 1 0 0\n",
    "0 0 1 0\n",
    "0 0 0 1"
   ],
   "metadata": {
    "collapsed": false,
    "pycharm": {
     "name": "#%% md\n"
    }
   }
  },
  {
   "cell_type": "code",
   "execution_count": 26,
   "outputs": [
    {
     "name": "stdout",
     "output_type": "stream",
     "text": [
      "[1, 0, 0, 0]\n",
      "[0, 1, 0, 0]\n",
      "[0, 0, 1, 0]\n",
      "[0, 0, 0, 1]\n"
     ]
    }
   ],
   "source": [
    "n = int(input())\n",
    "# n = 4\n",
    "m = n\n",
    "l = [[(1 if i == j else 0) for i in range(n)] for j in range(m)]\n",
    "\n",
    "for i in l:\n",
    "    print(*i)"
   ],
   "metadata": {
    "collapsed": false,
    "pycharm": {
     "name": "#%%\n"
    }
   }
  },
  {
   "cell_type": "code",
   "execution_count": 4,
   "outputs": [
    {
     "name": "stdout",
     "output_type": "stream",
     "text": [
      "range(0, 4)\n"
     ]
    }
   ],
   "source": [
    "print(range(int(input())))"
   ],
   "metadata": {
    "collapsed": false,
    "pycharm": {
     "name": "#%%\n"
    }
   }
  },
  {
   "cell_type": "code",
   "execution_count": 21,
   "outputs": [
    {
     "name": "stdout",
     "output_type": "stream",
     "text": [
      "[0, 1, 0, 1, 0, 1, 0, 1]\n",
      "[1, 0, 1, 0, 1, 0, 1, 0]\n",
      "[0, 1, 0, 1, 0, 1, 0, 1]\n",
      "[1, 0, 1, 0, 1, 0, 1, 0]\n",
      "[0, 1, 0, 1, 0, 1, 0, 1]\n",
      "[1, 0, 1, 0, 1, 0, 1, 0]\n",
      "[0, 1, 0, 1, 0, 1, 0, 1]\n",
      "[1, 0, 1, 0, 1, 0, 1, 0]\n"
     ]
    }
   ],
   "source": [
    "n = 8\n",
    "\n",
    "l = [[(i + j) % 2 for j in range(n)] for i in range(n)]\n",
    "\n",
    "for i in l:\n",
    "    print(i)"
   ],
   "metadata": {
    "collapsed": false,
    "pycharm": {
     "name": "#%%\n"
    }
   }
  },
  {
   "cell_type": "code",
   "execution_count": 27,
   "outputs": [
    {
     "name": "stdout",
     "output_type": "stream",
     "text": [
      "1 0 0 0\n",
      "0 1 0 0\n",
      "0 0 1 0\n",
      "0 0 0 1\n"
     ]
    }
   ],
   "source": [
    "n = int(input())\n",
    "\n",
    "l = []\n",
    "\n",
    "for i in range(n):\n",
    "    l.append([])\n",
    "    for j in range(n):\n",
    "        if i == j:\n",
    "            l[i].append(1)\n",
    "        else:\n",
    "            l[i].append(0)\n",
    "\n",
    "for i in l:\n",
    "    print(*i)"
   ],
   "metadata": {
    "collapsed": false,
    "pycharm": {
     "name": "#%%\n"
    }
   }
  },
  {
   "cell_type": "code",
   "execution_count": 31,
   "outputs": [
    {
     "name": "stdout",
     "output_type": "stream",
     "text": [
      "1 0 0 0\n",
      "0 1 0 0\n",
      "0 0 1 0\n",
      "0 0 0 1\n"
     ]
    }
   ],
   "source": [
    "n = int(input())\n",
    "\n",
    "for i in [[(1 if i == j else 0) for i in range(n)] for j in range(n)]:\n",
    "    print(*i)"
   ],
   "metadata": {
    "collapsed": false,
    "pycharm": {
     "name": "#%%\n"
    }
   }
  },
  {
   "cell_type": "markdown",
   "source": [
    "Напиши программу, которая выведет таблицу размером n * n, в которой все элементы на главной диагонали равны 1, элементы выше главной диагонали равны 0, а элементы ниже главной диагонали равны 2\n",
    "\n",
    "На единственной строке вводится число n\n",
    "\n",
    "Эта и следующие задачи будут очень похожи на предыдущую и копировать свои старые решения можно\n",
    "\n",
    "Sample Input:\n",
    "\n",
    "4\n",
    "Sample Output:\n",
    "\n",
    "1 0 0 0\n",
    "2 1 0 0\n",
    "2 2 1 0\n",
    "2 2 2 1"
   ],
   "metadata": {
    "collapsed": false,
    "pycharm": {
     "name": "#%% md\n"
    }
   }
  },
  {
   "cell_type": "code",
   "execution_count": 33,
   "outputs": [
    {
     "name": "stdout",
     "output_type": "stream",
     "text": [
      "1 0 0 0\n",
      "2 1 0 0\n",
      "2 2 1 0\n",
      "2 2 2 1\n"
     ]
    }
   ],
   "source": [
    "n = int(input())\n",
    "\n",
    "for i in [[(1 if i == j else 2 if i < j else 0) for i in range(n)] for j in range(n)]:\n",
    "    print(*i)"
   ],
   "metadata": {
    "collapsed": false,
    "pycharm": {
     "name": "#%%\n"
    }
   }
  },
  {
   "cell_type": "code",
   "execution_count": 34,
   "outputs": [
    {
     "name": "stdout",
     "output_type": "stream",
     "text": [
      "1 0 0 0\n",
      "2 1 0 0\n",
      "2 2 1 0\n",
      "2 2 2 1\n"
     ]
    },
    {
     "data": {
      "text/plain": "[None, None, None, None]"
     },
     "execution_count": 34,
     "metadata": {},
     "output_type": "execute_result"
    }
   ],
   "source": [
    "[print(*[0 if i < j else 1 if i == j else 2 for j in range(n)]) for n in [int(input())] for i in range(n)]"
   ],
   "metadata": {
    "collapsed": false,
    "pycharm": {
     "name": "#%%\n"
    }
   }
  },
  {
   "cell_type": "markdown",
   "source": [
    "Напиши программу, которая выведет таблицу размером n * n, в которой все элементы на побочной диагонали равны 1, а остальные 0\n",
    "\n",
    "На единственной строке вводится число n\n",
    "\n",
    "Sample Input:\n",
    "\n",
    "4\n",
    "Sample Output:\n",
    "\n",
    "0 0 0 1\n",
    "0 0 1 0\n",
    "0 1 0 0\n",
    "1 0 0 0"
   ],
   "metadata": {
    "collapsed": false,
    "pycharm": {
     "name": "#%% md\n"
    }
   }
  },
  {
   "cell_type": "markdown",
   "source": [
    "Побочная диагональ в квадратной таблице - это диагональ из правого верхнего в левый нижний угол.\n",
    "\n",
    "Элемент лежит на побочной диагонали, я если\n",
    "𝑖 + 𝑗 = 𝑛 − 1, где n - это длина стороны квадратной таблицы\n",
    "\n",
    "В этой таблице все числа на побочной диагонали равны 1, а остальные равны 0:"
   ],
   "metadata": {
    "collapsed": false,
    "pycharm": {
     "name": "#%% md\n"
    }
   }
  },
  {
   "cell_type": "code",
   "execution_count": 35,
   "outputs": [
    {
     "name": "stdout",
     "output_type": "stream",
     "text": [
      "0 0 0 1\n",
      "0 0 1 0\n",
      "0 1 0 0\n",
      "1 0 0 0\n"
     ]
    },
    {
     "data": {
      "text/plain": "[None, None, None, None]"
     },
     "execution_count": 35,
     "metadata": {},
     "output_type": "execute_result"
    }
   ],
   "source": [
    "[print(*[1 if i + j == n - 1 else 0 for j in range(n)]) for n in [int(input())] for i in range(n)]"
   ],
   "metadata": {
    "collapsed": false,
    "pycharm": {
     "name": "#%%\n"
    }
   }
  },
  {
   "cell_type": "code",
   "execution_count": 36,
   "outputs": [
    {
     "name": "stdout",
     "output_type": "stream",
     "text": [
      "0 0 0 1\n",
      "0 0 1 0\n",
      "0 1 0 0\n",
      "1 0 0 0\n"
     ]
    }
   ],
   "source": [
    "n = int(input())\n",
    "\n",
    "for i in [[(1 if i + j == n - 1 else 0) for i in range(n)] for j in range(n)]:\n",
    "    print(*i)"
   ],
   "metadata": {
    "collapsed": false,
    "pycharm": {
     "name": "#%%\n"
    }
   }
  },
  {
   "cell_type": "markdown",
   "source": [
    "Напиши программу, которая выведет таблицу размером n * n, в которой все элементы на побочной диагонали равны 1, элементы выше главной диагонали равны 0, а элементы ниже главной диагонали равны 2\n",
    "\n",
    "На единственной строке вводится число n\n",
    "\n",
    "Какие разнообразные задания! Просто супер!\n",
    "\n",
    "\n",
    "Sample Input:\n",
    "\n",
    "4\n",
    "Sample Output:\n",
    "\n",
    "0 0 0 1\n",
    "0 0 1 2\n",
    "0 1 2 2\n",
    "1 2 2 2"
   ],
   "metadata": {
    "collapsed": false,
    "pycharm": {
     "name": "#%% md\n"
    }
   }
  },
  {
   "cell_type": "code",
   "execution_count": 46,
   "outputs": [
    {
     "name": "stdout",
     "output_type": "stream",
     "text": [
      "0 0 0 1\n",
      "0 0 1 2\n",
      "0 1 2 2\n",
      "1 2 2 2\n"
     ]
    }
   ],
   "source": [
    "n = int(input())\n",
    "\n",
    "for i in [[(1 if i + j == n - 1 else 2 if i + j > n - 1 else 0) for i in range(n)] for j in range(n)]:\n",
    "    print(*i)"
   ],
   "metadata": {
    "collapsed": false,
    "pycharm": {
     "name": "#%%\n"
    }
   }
  },
  {
   "cell_type": "markdown",
   "source": [
    "Напиши программу, которая выведет таблицу размером n * n, заполненную как показано в примере\n",
    "\n",
    "(На диагоналях таблицы элементы равны 1. Диагонали делят таблицу на 4 равные части. В верхней части все элементы равны 2, в правой части все элементы равны 3, в нижней части все элементы равны 4, а в левой части все элементы равны 5)\n",
    "\n",
    "На единственной строке вводится нечетное число n\n",
    "\n",
    "Sample Input 1:\n",
    "\n",
    "7\n",
    "Sample Output 1:\n",
    "\n",
    "1 2 2 2 2 2 1\n",
    "5 1 2 2 2 1 3\n",
    "5 5 1 2 1 3 3\n",
    "5 5 5 1 3 3 3\n",
    "5 5 1 4 1 3 3\n",
    "5 1 4 4 4 1 3\n",
    "1 4 4 4 4 4 1\n",
    "Sample Input 2:\n",
    "\n",
    "15\n",
    "Sample Output 2:\n",
    "\n",
    "1 2 2 2 2 2 2 2 2 2 2 2 2 2 1\n",
    "5 1 2 2 2 2 2 2 2 2 2 2 2 1 3\n",
    "5 5 1 2 2 2 2 2 2 2 2 2 1 3 3\n",
    "5 5 5 1 2 2 2 2 2 2 2 1 3 3 3\n",
    "5 5 5 5 1 2 2 2 2 2 1 3 3 3 3\n",
    "5 5 5 5 5 1 2 2 2 1 3 3 3 3 3\n",
    "5 5 5 5 5 5 1 2 1 3 3 3 3 3 3\n",
    "5 5 5 5 5 5 5 1 3 3 3 3 3 3 3\n",
    "5 5 5 5 5 5 1 4 1 3 3 3 3 3 3\n",
    "5 5 5 5 5 1 4 4 4 1 3 3 3 3 3\n",
    "5 5 5 5 1 4 4 4 4 4 1 3 3 3 3\n",
    "5 5 5 1 4 4 4 4 4 4 4 1 3 3 3\n",
    "5 5 1 4 4 4 4 4 4 4 4 4 1 3 3\n",
    "5 1 4 4 4 4 4 4 4 4 4 4 4 1 3\n",
    "1 4 4 4 4 4 4 4 4 4 4 4 4 4 1"
   ],
   "metadata": {
    "collapsed": false,
    "pycharm": {
     "name": "#%% md\n"
    }
   }
  },
  {
   "cell_type": "code",
   "execution_count": 48,
   "outputs": [
    {
     "name": "stdout",
     "output_type": "stream",
     "text": [
      "1 2 2 2 2 2 1\n",
      "5 1 2 2 2 1 3\n",
      "5 5 1 2 1 3 3\n",
      "5 5 5 1 3 3 3\n",
      "5 5 1 4 1 3 3\n",
      "5 1 4 4 4 1 3\n",
      "1 4 4 4 4 4 1\n"
     ]
    }
   ],
   "source": [
    "n = int(input())\n",
    "\n",
    "for i in [[(\n",
    "           1 if i == j or i + j == n - 1\n",
    "           else 2 if i > j and i < n - 1 - j\n",
    "           else 5 if i < j and i < n - 1 - j\n",
    "           else 4 if i < j and i > n - 1 - j\n",
    "           else 3)\n",
    "           for i in range(n)]\n",
    "    for j in range(n)]:\n",
    "    print(*i)"
   ],
   "metadata": {
    "collapsed": false,
    "pycharm": {
     "name": "#%%\n"
    }
   }
  },
  {
   "cell_type": "markdown",
   "source": [
    "Напиши программу, которая выведет таблицу размером n * n, в которой все элементы равны расстоянию от этого элемента до главной диагонали. (смотри пример)\n",
    "\n",
    "Sample Input:\n",
    "\n",
    "5\n",
    "Sample Output:\n",
    "\n",
    "0 1 2 3 4\n",
    "1 0 1 2 3\n",
    "2 1 0 1 2\n",
    "3 2 1 0 1\n",
    "4 3 2 1 0"
   ],
   "metadata": {
    "collapsed": false,
    "pycharm": {
     "name": "#%% md\n"
    }
   }
  },
  {
   "cell_type": "code",
   "execution_count": 49,
   "outputs": [
    {
     "name": "stdout",
     "output_type": "stream",
     "text": [
      "0 1 2 3 4\n",
      "1 0 1 2 3\n",
      "2 1 0 1 2\n",
      "3 2 1 0 1\n",
      "4 3 2 1 0\n"
     ]
    }
   ],
   "source": [
    "n = int(input())\n",
    "\n",
    "for i in [[abs(i - j) for i in range(n)] for j in range(n)]:\n",
    "    print(*i)"
   ],
   "metadata": {
    "collapsed": false,
    "pycharm": {
     "name": "#%%\n"
    }
   }
  },
  {
   "cell_type": "markdown",
   "source": [
    "Напиши программу, которая выведет таблицу размером n * n, в которой все элементы равны расстоянию от этого элемента до побочной диагонали. (смотри пример)\n",
    "\n",
    "Sample Input:\n",
    "\n",
    "5\n",
    "Sample Output:\n",
    "\n",
    "4 3 2 1 0\n",
    "3 2 1 0 1\n",
    "2 1 0 1 2\n",
    "1 0 1 2 3\n",
    "0 1 2 3 4"
   ],
   "metadata": {
    "collapsed": false,
    "pycharm": {
     "name": "#%% md\n"
    }
   }
  },
  {
   "cell_type": "code",
   "execution_count": 51,
   "outputs": [
    {
     "name": "stdout",
     "output_type": "stream",
     "text": [
      "4 3 2 1 0\n",
      "3 2 1 0 1\n",
      "2 1 0 1 2\n",
      "1 0 1 2 3\n",
      "0 1 2 3 4\n"
     ]
    }
   ],
   "source": [
    "n = int(input())\n",
    "\n",
    "for i in [[(abs(i + j - n + 1)) for i in range(n)] for j in range(n)]:\n",
    "    print(*i)"
   ],
   "metadata": {
    "collapsed": false,
    "pycharm": {
     "name": "#%%\n"
    }
   }
  },
  {
   "cell_type": "markdown",
   "source": [
    "Раскраска диагональками\n",
    "\n",
    "Напиши программу, которая выведет таблицу размером n * n, которая раскрашена диагональками в k цветов (посмотри на пример)\n",
    "\n",
    "В первой строчке вводится число n\n",
    "\n",
    "Во второй сточке вводится число k\n",
    "\n",
    "Sample Input:\n",
    "\n",
    "8\n",
    "3\n",
    "Sample Output:\n",
    "\n",
    "0 1 2 0 1 2 0 1\n",
    "1 2 0 1 2 0 1 2\n",
    "2 0 1 2 0 1 2 0\n",
    "0 1 2 0 1 2 0 1\n",
    "1 2 0 1 2 0 1 2\n",
    "2 0 1 2 0 1 2 0\n",
    "0 1 2 0 1 2 0 1\n",
    "1 2 0 1 2 0 1 2"
   ],
   "metadata": {
    "collapsed": false,
    "pycharm": {
     "name": "#%% md\n"
    }
   }
  },
  {
   "cell_type": "code",
   "execution_count": 55,
   "outputs": [
    {
     "name": "stdout",
     "output_type": "stream",
     "text": [
      "0 1 2 0 1 2 0 1\n",
      "1 2 0 1 2 0 1 2\n",
      "2 0 1 2 0 1 2 0\n",
      "0 1 2 0 1 2 0 1\n",
      "1 2 0 1 2 0 1 2\n",
      "2 0 1 2 0 1 2 0\n",
      "0 1 2 0 1 2 0 1\n",
      "1 2 0 1 2 0 1 2\n"
     ]
    }
   ],
   "source": [
    "n = int(input())\n",
    "k = int(input())\n",
    "\n",
    "\n",
    "for i in [[(i + j) % k\n",
    "           for i in range(n)]\n",
    "    for j in range(n)]:\n",
    "    print(*i)"
   ],
   "metadata": {
    "collapsed": false,
    "pycharm": {
     "name": "#%%\n"
    }
   }
  }
 ],
 "metadata": {
  "kernelspec": {
   "display_name": "Python 3",
   "language": "python",
   "name": "python3"
  },
  "language_info": {
   "codemirror_mode": {
    "name": "ipython",
    "version": 2
   },
   "file_extension": ".py",
   "mimetype": "text/x-python",
   "name": "python",
   "nbconvert_exporter": "python",
   "pygments_lexer": "ipython2",
   "version": "2.7.6"
  }
 },
 "nbformat": 4,
 "nbformat_minor": 0
}
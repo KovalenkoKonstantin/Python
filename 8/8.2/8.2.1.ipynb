﻿{
 "cells": [
  {
   "cell_type": "markdown",
   "source": [
    "Для заполнения двумерного списка можно использовать вложенные циклы"
   ],
   "metadata": {
    "collapsed": false,
    "pycharm": {
     "name": "#%% md\n"
    }
   }
  },
  {
   "cell_type": "code",
   "execution_count": 4,
   "outputs": [
    {
     "name": "stdout",
     "output_type": "stream",
     "text": [
      "[[0, 1, 2, 3, 4], [1, 2, 3, 4, 5], [2, 3, 4, 5, 6], [3, 4, 5, 6, 7], [4, 5, 6, 7, 8]]\n"
     ]
    }
   ],
   "source": [
    "l = []\n",
    "for i in range(5):\n",
    "    row = []  # создаем вложенный список, который будет элементом l\n",
    "    for j in range(5):  # в каждой списке в l будет 5 элементов\n",
    "        row.append(i + j)\n",
    "    l.append(row)  # добавляем элемент к списку l\n",
    "print(l)"
   ],
   "metadata": {
    "collapsed": false,
    "pycharm": {
     "name": "#%%\n"
    }
   }
  },
  {
   "cell_type": "code",
   "execution_count": 5,
   "outputs": [
    {
     "name": "stdout",
     "output_type": "stream",
     "text": [
      "[[0, 1, 2, 3, 4], [1, 2, 3, 4, 5], [2, 3, 4, 5, 6], [3, 4, 5, 6, 7], [4, 5, 6, 7, 8]]\n"
     ]
    }
   ],
   "source": [
    "l = []\n",
    "for i in range(5):\n",
    "    l.append([])\n",
    "    for j in range(5):\n",
    "        l[i].append(i + j)\n",
    "print(l)"
   ],
   "metadata": {
    "collapsed": false,
    "pycharm": {
     "name": "#%%\n"
    }
   }
  },
  {
   "cell_type": "markdown",
   "source": [
    "Чтобы вывести элементы в виде таблицы (а не в виде \"кучи квадратных скобок и каких-то чисел\") можно использовать такой код:"
   ],
   "metadata": {
    "collapsed": false,
    "pycharm": {
     "name": "#%% md\n"
    }
   }
  },
  {
   "cell_type": "code",
   "execution_count": 6,
   "outputs": [
    {
     "name": "stdout",
     "output_type": "stream",
     "text": [
      "0 1 2 3 4 \n",
      "1 2 3 4 5 \n",
      "2 3 4 5 6 \n",
      "3 4 5 6 7 \n",
      "4 5 6 7 8 \n"
     ]
    }
   ],
   "source": [
    "l = [[0, 1, 2, 3, 4], [1, 2, 3, 4, 5], [2, 3, 4, 5, 6], [3, 4, 5, 6, 7], [4, 5, 6, 7, 8]]\n",
    "\n",
    "for i in l:  # перебираем строки\n",
    "    for j in i:  # перебираем столбцы\n",
    "        print(j, end=' ')  # выводим элемент списка\n",
    "    print()  # переходим на следующую строчку после того как вывели еще одну строку двумерного списка"
   ],
   "metadata": {
    "collapsed": false,
    "pycharm": {
     "name": "#%%\n"
    }
   }
  },
  {
   "cell_type": "markdown",
   "source": [
    "С помощью распаковки списков можно сократить код для вывода двумерного списка написанный выше:"
   ],
   "metadata": {
    "collapsed": false,
    "pycharm": {
     "name": "#%% md\n"
    }
   }
  },
  {
   "cell_type": "code",
   "execution_count": 7,
   "outputs": [
    {
     "name": "stdout",
     "output_type": "stream",
     "text": [
      "0 1 2 3 4\n",
      "1 2 3 4 5\n",
      "2 3 4 5 6\n",
      "3 4 5 6 7\n",
      "4 5 6 7 8\n"
     ]
    }
   ],
   "source": [
    "l = [[0, 1, 2, 3, 4], [1, 2, 3, 4, 5], [2, 3, 4, 5, 6], [3, 4, 5, 6, 7], [4, 5, 6, 7, 8]]\n",
    "\n",
    "for i in l:\n",
    "    print(*i)"
   ],
   "metadata": {
    "collapsed": false,
    "pycharm": {
     "name": "#%%\n"
    }
   }
  },
  {
   "cell_type": "markdown",
   "source": [
    "Дополни код так, чтобы он выводил элементы списка в виде таблицы.\n",
    "\n",
    "Считывать ничего не нужно"
   ],
   "metadata": {
    "collapsed": false,
    "pycharm": {
     "name": "#%% md\n"
    }
   }
  },
  {
   "cell_type": "code",
   "execution_count": 1,
   "outputs": [
    {
     "name": "stdout",
     "output_type": "stream",
     "text": [
      "10 12 13\n",
      "17 39 81\n",
      "14 66 39\n"
     ]
    }
   ],
   "source": [
    "l = [[10, 12, 13], [17, 39, 81], [14, 66, 39]]\n",
    "\n",
    "for i in l:\n",
    "    print(*i)"
   ],
   "metadata": {
    "collapsed": false,
    "pycharm": {
     "name": "#%%\n"
    }
   }
  },
  {
   "cell_type": "code",
   "execution_count": 10,
   "outputs": [
    {
     "name": "stdout",
     "output_type": "stream",
     "text": [
      "10 12 13\n",
      "17 39 81\n",
      "14 66 39\n"
     ]
    },
    {
     "data": {
      "text/plain": "[None, None, None]"
     },
     "execution_count": 10,
     "metadata": {},
     "output_type": "execute_result"
    }
   ],
   "source": [
    "l = [[10, 12, 13], [17, 39, 81], [14, 66, 39]]\n",
    "[print(*a) for a in l]"
   ],
   "metadata": {
    "collapsed": false,
    "pycharm": {
     "name": "#%%\n"
    }
   }
  },
  {
   "cell_type": "markdown",
   "source": [
    "Напиши программу, которая создаст список размером n*m , заполненный нулями, и выведет его в виде таблицы (между элементами таблицы в одной строке выводите пробел в качестве разделителя)\n",
    "\n",
    "На единственной строчке вводится 2 числа через пробел - n и m"
   ],
   "metadata": {
    "collapsed": false,
    "pycharm": {
     "name": "#%% md\n"
    }
   }
  },
  {
   "cell_type": "code",
   "execution_count": 12,
   "outputs": [
    {
     "name": "stdout",
     "output_type": "stream",
     "text": [
      "0 0 0 0\n",
      "0 0 0 0\n",
      "0 0 0 0\n",
      "0 0 0 0\n",
      "0 0 0 0\n"
     ]
    }
   ],
   "source": [
    "n, m = map(int, input().split())\n",
    "\n",
    "l = [[0 for _ in range(m)] for _ in range(n)]\n",
    "\n",
    "for i in l:\n",
    "    print(*i)"
   ],
   "metadata": {
    "collapsed": false,
    "pycharm": {
     "name": "#%%\n"
    }
   }
  },
  {
   "cell_type": "markdown",
   "source": [
    "Напиши программу, которая выведет (флаг города 01 из аниматрицы)\n",
    "\n",
    "Таблицу половина которой состоит из единиц, а вторая из нулей, где черный цвет - единицы, а белый - нули\n",
    "\n",
    "На единственной строчке вводится четное число n - длина стороны квадрата, представляющего из себя таблицу"
   ],
   "metadata": {
    "collapsed": false,
    "pycharm": {
     "name": "#%% md\n"
    }
   }
  },
  {
   "cell_type": "code",
   "execution_count": 20,
   "outputs": [
    {
     "name": "stdout",
     "output_type": "stream",
     "text": [
      "1 1 1 1 0 0 0 0\n",
      "1 1 1 1 0 0 0 0\n",
      "1 1 1 1 0 0 0 0\n",
      "1 1 1 1 0 0 0 0\n",
      "1 1 1 1 0 0 0 0\n",
      "1 1 1 1 0 0 0 0\n",
      "1 1 1 1 0 0 0 0\n",
      "1 1 1 1 0 0 0 0\n"
     ]
    }
   ],
   "source": [
    "#List comprehensions с условиями\n",
    "n = int(input())\n",
    "# n = 8\n",
    "\n",
    "l = [[(1 if i < int(n / 2) else 0) for i in range(n)]\n",
    "     for _ in range(n)]\n",
    "\n",
    "for i in l:\n",
    "    print(*i)"
   ],
   "metadata": {
    "collapsed": false,
    "pycharm": {
     "name": "#%%\n"
    }
   }
  },
  {
   "cell_type": "markdown",
   "source": [
    "Напиши программу, которая считывает два числа n и m, каждое в своей строчке, и выводит таблицу n на m, заполненную числами, равными номеру столбца, в котором они находятся."
   ],
   "metadata": {
    "collapsed": false,
    "pycharm": {
     "name": "#%% md\n"
    }
   }
  },
  {
   "cell_type": "code",
   "execution_count": 23,
   "outputs": [
    {
     "name": "stdout",
     "output_type": "stream",
     "text": [
      "1 2 3 4\n",
      "1 2 3 4\n",
      "1 2 3 4\n"
     ]
    }
   ],
   "source": [
    "n = int(input())\n",
    "m = int(input())\n",
    "# n = 3\n",
    "# m = 4\n",
    "\n",
    "l = [[i + 1 for i in range(m)] for j in range(n)]\n",
    "\n",
    "for i in l:\n",
    "    print(*i)"
   ],
   "metadata": {
    "collapsed": false,
    "pycharm": {
     "name": "#%%\n"
    }
   }
  },
  {
   "cell_type": "code",
   "execution_count": 24,
   "outputs": [
    {
     "name": "stdout",
     "output_type": "stream",
     "text": [
      "1 2 3 4\n",
      "1 2 3 4\n",
      "1 2 3 4\n"
     ]
    }
   ],
   "source": [
    "n = int(input())\n",
    "m = int(input())\n",
    "\n",
    "l = []\n",
    "for i in range(n):\n",
    "    l.append([])\n",
    "    for j in range(m):\n",
    "        l[i].append(j + 1)\n",
    "\n",
    "for i in l:\n",
    "    print(*i)"
   ],
   "metadata": {
    "collapsed": false,
    "pycharm": {
     "name": "#%%\n"
    }
   }
  },
  {
   "cell_type": "markdown",
   "source": [
    "Шахматная раскраска\n",
    "\n",
    "Напиши программу, которая выведет таблицу размером n * n, которая будет заполнена числами 0 и 1 в шахматном порядке (в левом верхнем углу таблице стоит 0)\n",
    "\n",
    "В единственной строчке вводится число n"
   ],
   "metadata": {
    "collapsed": false,
    "pycharm": {
     "name": "#%% md\n"
    }
   }
  },
  {
   "cell_type": "code",
   "execution_count": 29,
   "outputs": [
    {
     "name": "stdout",
     "output_type": "stream",
     "text": [
      "0 1 0 1 0 1 0 1\n",
      "1 0 1 0 1 0 1 0\n",
      "0 1 0 1 0 1 0 1\n",
      "1 0 1 0 1 0 1 0\n",
      "0 1 0 1 0 1 0 1\n",
      "1 0 1 0 1 0 1 0\n",
      "0 1 0 1 0 1 0 1\n",
      "1 0 1 0 1 0 1 0\n"
     ]
    }
   ],
   "source": [
    "#List comprehensions с условиями\n",
    "n = int(input())\n",
    "# n = 8\n",
    "\n",
    "l = [[(i + j) % 2 for j in range(n)] for i in range(n)]\n",
    "#Как только i + j становится четным (0, 2, 4 и так далее), результат % 2 становится 0, а при нечетном (1, 3, 5 и так далее) результат становится 1.\n",
    "\n",
    "for i in l:\n",
    "    print(*i)"
   ],
   "metadata": {
    "collapsed": false,
    "pycharm": {
     "name": "#%%\n"
    }
   }
  },
  {
   "cell_type": "code",
   "execution_count": 30,
   "outputs": [
    {
     "name": "stdout",
     "output_type": "stream",
     "text": [
      "0 1 0 1 0 1 0 1\n",
      "1 0 1 0 1 0 1 0\n",
      "0 1 0 1 0 1 0 1\n",
      "1 0 1 0 1 0 1 0\n",
      "0 1 0 1 0 1 0 1\n",
      "1 0 1 0 1 0 1 0\n",
      "0 1 0 1 0 1 0 1\n",
      "1 0 1 0 1 0 1 0\n"
     ]
    },
    {
     "data": {
      "text/plain": "[None, None, None, None, None, None, None, None]"
     },
     "execution_count": 30,
     "metadata": {},
     "output_type": "execute_result"
    }
   ],
   "source": [
    "(lambda n: [print(*[(i+j)%2 for i in range(n)]) for j in range(n)])(int(input()))"
   ],
   "metadata": {
    "collapsed": false,
    "pycharm": {
     "name": "#%%\n"
    }
   }
  },
  {
   "cell_type": "markdown",
   "source": [
    "Для считывания  \"квадратного\" двумерного списка можно использовать такую конструкцию:\n",
    "\n",
    "n = int(input())\n",
    "\n",
    "l = []\n",
    "for i in range(n):\n",
    "    l.append(input().split()) # Добавляем в список новую строчку\n",
    "    for j in range(n):  # Преобразовываем элементы добавленной строчки к числовому виду\n",
    "        l[i][j] = int(l[i][j])\n",
    "\n",
    "print(l)\n",
    "если ввести\n",
    "\n",
    "4\n",
    "1  2  3  4\n",
    "5  6  7  8\n",
    "9  10 11 12\n",
    "13 14 15 16\n",
    "выведет\n",
    "\n",
    "[[1, 2, 3, 4], [5, 6, 7, 8], [9, 10, 11, 12], [13, 14, 15, 16]]"
   ],
   "metadata": {
    "collapsed": false,
    "pycharm": {
     "name": "#%% md\n"
    }
   }
  },
  {
   "cell_type": "markdown",
   "source": [
    "Напиши программу, которая считает список размером n*m, и выведет его.\n",
    "На первой строчке вводится число n - количество строк в списке\n",
    "На второй сточке вводится число m - количество столбцов в списке\n",
    "На следующих nстрочках вводится по m чисел, разделенных пробелами\n",
    "Можно (и нужно) немного изменить код из предыдущего шага для решения этой задачи"
   ],
   "metadata": {
    "collapsed": false,
    "pycharm": {
     "name": "#%% md\n"
    }
   }
  },
  {
   "cell_type": "code",
   "execution_count": 32,
   "outputs": [
    {
     "name": "stdout",
     "output_type": "stream",
     "text": [
      "[[1, 2, 3, '4', '5', '6'], [7, 8, 9, '10', '11', '12'], [13, 14, 15, '16', '17', '18']]\n"
     ]
    }
   ],
   "source": [
    "n = int(input())  # Число строк\n",
    "m = int(input())  # Число столбцов\n",
    "# n = 3\n",
    "# m = 6\n",
    "\n",
    "l = []\n",
    "for i in range(n):\n",
    "    l.append(input().split()) # Добавляем в список новую строчку\n",
    "\n",
    "\n",
    "    for j in range(m):  # Преобразовываем элементы добавленной строчки к числовому виду\n",
    "        l[i][j] = int(l[i][j])\n",
    "\n",
    "print(l)"
   ],
   "metadata": {
    "collapsed": false,
    "pycharm": {
     "name": "#%%\n"
    }
   }
  },
  {
   "cell_type": "code",
   "execution_count": 33,
   "outputs": [
    {
     "name": "stdout",
     "output_type": "stream",
     "text": [
      "[[1, 2, 3, 4, 5, 6], [7, 8, 9, 10, 11, 12, 11, 11, 11, 11], [13, 14, 15, 16, 17, 18, 19, 20, 21, 22]]\n"
     ]
    }
   ],
   "source": [
    "n = int(input())  # Число строк\n",
    "m = int(input())  # Число столбцов\n",
    "\n",
    "l = []\n",
    "for i in range(n):\n",
    "    row = list(map(int, input().split()))  # Считываем строку чисел, разделенных пробелами и преобразуем в числа\n",
    "    l.append(row)  # Добавляем строку в список\n",
    "\n",
    "\n",
    "    for j in range(m):  # Преобразовываем элементы добавленной строчки к числовому виду ограничиваясь числом столбцов\n",
    "        l[i][j] = int(l[i][j])\n",
    "\n",
    "print(l)"
   ],
   "metadata": {
    "collapsed": false,
    "pycharm": {
     "name": "#%%\n"
    }
   }
  },
  {
   "cell_type": "code",
   "execution_count": null,
   "outputs": [],
   "source": [
    "m = (lambda n,_: [list(map(int,input().split())) for _ in range(n)])(int(input()),input())\n",
    "print(m)"
   ],
   "metadata": {
    "collapsed": false,
    "pycharm": {
     "name": "#%%\n"
    }
   }
  }
 ],
 "metadata": {
  "kernelspec": {
   "display_name": "Python 3",
   "language": "python",
   "name": "python3"
  },
  "language_info": {
   "codemirror_mode": {
    "name": "ipython",
    "version": 2
   },
   "file_extension": ".py",
   "mimetype": "text/x-python",
   "name": "python",
   "nbconvert_exporter": "python",
   "pygments_lexer": "ipython2",
   "version": "2.7.6"
  }
 },
 "nbformat": 4,
 "nbformat_minor": 0
}
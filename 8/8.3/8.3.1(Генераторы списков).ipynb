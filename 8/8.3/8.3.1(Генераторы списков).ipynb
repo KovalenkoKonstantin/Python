﻿{
 "cells": [
  {
   "cell_type": "markdown",
   "source": [
    "Для быстрого создания/считывания списка можно использовать генераторы списков\n",
    "Синтаксис:\n",
    "\n",
    "[выражение for переменная in итерируемый_объект]\n",
    "равносилен\n",
    "\n",
    "l = []\n",
    "for переменная in итерируемый_объект:\n",
    "    l.append(выражение)\n",
    "Например:\n",
    "\n",
    "l = [i ** 2 for i in range(1, 11)] # список квадратов чисел от 1 до 10\n",
    "print(l)\n",
    "выводит\n",
    "\n",
    "[1, 4, 9, 16, 25, 36, 49, 64, 81, 100]\n",
    "\n",
    "l = [int(i) for i in input().split()]\n",
    "\n",
    "print(l)\n",
    "если ввести\n",
    "\n",
    "1 2 3 4 5\n",
    "выведет\n",
    "\n",
    "[1, 2, 3, 4, 5]\n",
    "\n",
    "Выражением в генераторе может быть и другой генератор, таким образом можно получить двумерный список:\n",
    "\n",
    "Правда для того, чтобы считать его нам нужно знать количество строк в списке (по этому мы и считываем число n).\n",
    "\n",
    "n = int(input())\n",
    "# создаем список, элементами которого являются считанные одномерные списки как в прошлом куске кода\n",
    "l = [[int(j) for j in input().split()] for i in range(n)]\n",
    "print(l)\n",
    "если ввести:\n",
    "\n",
    "4\n",
    "1  2  3  4  5  6\n",
    "10 11 12 13 14 15\n",
    "0  0  0  0  0  0\n",
    "39 1  2  3  4  5\n",
    "выведет:\n",
    "\n",
    "[[1, 2, 3, 4, 5, 6], [10, 11, 12, 13, 14, 15], [0, 0, 0, 0, 0, 0], [39, 1, 2, 3, 4, 5]]"
   ],
   "metadata": {
    "collapsed": false,
    "pycharm": {
     "name": "#%% md\n"
    }
   }
  },
  {
   "cell_type": "markdown",
   "source": [
    "Напиши программу, которая считывает два числа - n и m (каждое в своей строчке) и выведет список размером n * m, элементами которого являются нули."
   ],
   "metadata": {
    "collapsed": false,
    "pycharm": {
     "name": "#%% md\n"
    }
   }
  },
  {
   "cell_type": "code",
   "execution_count": 2,
   "outputs": [
    {
     "name": "stdout",
     "output_type": "stream",
     "text": [
      "[[0, 0], [0, 0], [0, 0]]\n"
     ]
    }
   ],
   "source": [
    "n = int(input())\n",
    "m = int(input())\n",
    "\n",
    "print([[0 for _ in range(m)] for _ in range(n)])"
   ],
   "metadata": {
    "collapsed": false,
    "pycharm": {
     "name": "#%%\n"
    }
   }
  }
 ],
 "metadata": {
  "kernelspec": {
   "display_name": "Python 3",
   "language": "python",
   "name": "python3"
  },
  "language_info": {
   "codemirror_mode": {
    "name": "ipython",
    "version": 2
   },
   "file_extension": ".py",
   "mimetype": "text/x-python",
   "name": "python",
   "nbconvert_exporter": "python",
   "pygments_lexer": "ipython2",
   "version": "2.7.6"
  }
 },
 "nbformat": 4,
 "nbformat_minor": 0
}